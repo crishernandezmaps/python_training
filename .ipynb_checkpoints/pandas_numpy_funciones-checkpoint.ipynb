{
 "cells": [
  {
   "cell_type": "markdown",
   "metadata": {},
   "source": [
    "# Intermediate in Pandas"
   ]
  },
  {
   "cell_type": "code",
   "execution_count": 12,
   "metadata": {},
   "outputs": [],
   "source": [
    "import pandas as pd\n",
    "import numpy as np"
   ]
  },
  {
   "cell_type": "markdown",
   "metadata": {},
   "source": [
    "## Some basics stats using Pandas"
   ]
  },
  {
   "cell_type": "code",
   "execution_count": 2,
   "metadata": {},
   "outputs": [
    {
     "data": {
      "text/html": [
       "<div>\n",
       "<style scoped>\n",
       "    .dataframe tbody tr th:only-of-type {\n",
       "        vertical-align: middle;\n",
       "    }\n",
       "\n",
       "    .dataframe tbody tr th {\n",
       "        vertical-align: top;\n",
       "    }\n",
       "\n",
       "    .dataframe thead th {\n",
       "        text-align: right;\n",
       "    }\n",
       "</style>\n",
       "<table border=\"1\" class=\"dataframe\">\n",
       "  <thead>\n",
       "    <tr style=\"text-align: right;\">\n",
       "      <th></th>\n",
       "      <th>Indicator</th>\n",
       "      <th>PUBLISH STATES</th>\n",
       "      <th>Year</th>\n",
       "      <th>WHO region</th>\n",
       "      <th>Country</th>\n",
       "      <th>Display Value</th>\n",
       "      <th>Numeric</th>\n",
       "      <th>Low</th>\n",
       "      <th>High</th>\n",
       "      <th>Comments</th>\n",
       "    </tr>\n",
       "  </thead>\n",
       "  <tbody>\n",
       "    <tr>\n",
       "      <th>6198</th>\n",
       "      <td>Average -  cigarette currency</td>\n",
       "      <td>Published</td>\n",
       "      <td>2014</td>\n",
       "      <td>Western Pacific</td>\n",
       "      <td>Malaysia</td>\n",
       "      <td>MYR</td>\n",
       "      <td>NaN</td>\n",
       "      <td>NaN</td>\n",
       "      <td>NaN</td>\n",
       "      <td>NaN</td>\n",
       "    </tr>\n",
       "    <tr>\n",
       "      <th>6199</th>\n",
       "      <td>Average -  cigarette currency</td>\n",
       "      <td>Published</td>\n",
       "      <td>2014</td>\n",
       "      <td>Americas</td>\n",
       "      <td>Peru</td>\n",
       "      <td>PEN</td>\n",
       "      <td>NaN</td>\n",
       "      <td>NaN</td>\n",
       "      <td>NaN</td>\n",
       "      <td>NaN</td>\n",
       "    </tr>\n",
       "    <tr>\n",
       "      <th>6200</th>\n",
       "      <td>Average -  cigarette currency</td>\n",
       "      <td>Published</td>\n",
       "      <td>2012</td>\n",
       "      <td>Western Pacific</td>\n",
       "      <td>Philippines</td>\n",
       "      <td>PHP</td>\n",
       "      <td>NaN</td>\n",
       "      <td>NaN</td>\n",
       "      <td>NaN</td>\n",
       "      <td>NaN</td>\n",
       "    </tr>\n",
       "    <tr>\n",
       "      <th>6201</th>\n",
       "      <td>Average -  cigarette currency</td>\n",
       "      <td>Published</td>\n",
       "      <td>2012</td>\n",
       "      <td>Europe</td>\n",
       "      <td>Sweden</td>\n",
       "      <td>SEK</td>\n",
       "      <td>NaN</td>\n",
       "      <td>NaN</td>\n",
       "      <td>NaN</td>\n",
       "      <td>NaN</td>\n",
       "    </tr>\n",
       "    <tr>\n",
       "      <th>6202</th>\n",
       "      <td>Average -  cigarette currency</td>\n",
       "      <td>Published</td>\n",
       "      <td>2012</td>\n",
       "      <td>Western Pacific</td>\n",
       "      <td>Singapore</td>\n",
       "      <td>SGD</td>\n",
       "      <td>NaN</td>\n",
       "      <td>NaN</td>\n",
       "      <td>NaN</td>\n",
       "      <td>NaN</td>\n",
       "    </tr>\n",
       "    <tr>\n",
       "      <th>6203</th>\n",
       "      <td>Average -  cigarette currency</td>\n",
       "      <td>Published</td>\n",
       "      <td>2014</td>\n",
       "      <td>Africa</td>\n",
       "      <td>Sierra Leone</td>\n",
       "      <td>SLL</td>\n",
       "      <td>NaN</td>\n",
       "      <td>NaN</td>\n",
       "      <td>NaN</td>\n",
       "      <td>NaN</td>\n",
       "    </tr>\n",
       "    <tr>\n",
       "      <th>6204</th>\n",
       "      <td>Average -  cigarette currency</td>\n",
       "      <td>Published</td>\n",
       "      <td>2012</td>\n",
       "      <td>Americas</td>\n",
       "      <td>Ecuador</td>\n",
       "      <td>USD</td>\n",
       "      <td>NaN</td>\n",
       "      <td>NaN</td>\n",
       "      <td>NaN</td>\n",
       "      <td>NaN</td>\n",
       "    </tr>\n",
       "    <tr>\n",
       "      <th>6205</th>\n",
       "      <td>Average -  cigarette currency</td>\n",
       "      <td>Published</td>\n",
       "      <td>2014</td>\n",
       "      <td>Africa</td>\n",
       "      <td>Zimbabwe</td>\n",
       "      <td>USD</td>\n",
       "      <td>NaN</td>\n",
       "      <td>NaN</td>\n",
       "      <td>NaN</td>\n",
       "      <td>NaN</td>\n",
       "    </tr>\n",
       "    <tr>\n",
       "      <th>6206</th>\n",
       "      <td>Average -  cigarette currency</td>\n",
       "      <td>Published</td>\n",
       "      <td>2014</td>\n",
       "      <td>Africa</td>\n",
       "      <td>Senegal</td>\n",
       "      <td>XOF</td>\n",
       "      <td>NaN</td>\n",
       "      <td>NaN</td>\n",
       "      <td>NaN</td>\n",
       "      <td>NaN</td>\n",
       "    </tr>\n",
       "    <tr>\n",
       "      <th>6207</th>\n",
       "      <td>Average -  cigarette currency</td>\n",
       "      <td>Published</td>\n",
       "      <td>2012</td>\n",
       "      <td>Eastern Mediterranean</td>\n",
       "      <td>Yemen</td>\n",
       "      <td>YER</td>\n",
       "      <td>NaN</td>\n",
       "      <td>NaN</td>\n",
       "      <td>NaN</td>\n",
       "      <td>NaN</td>\n",
       "    </tr>\n",
       "  </tbody>\n",
       "</table>\n",
       "</div>"
      ],
      "text/plain": [
       "                          Indicator PUBLISH STATES  Year  \\\n",
       "6198  Average -  cigarette currency      Published  2014   \n",
       "6199  Average -  cigarette currency      Published  2014   \n",
       "6200  Average -  cigarette currency      Published  2012   \n",
       "6201  Average -  cigarette currency      Published  2012   \n",
       "6202  Average -  cigarette currency      Published  2012   \n",
       "6203  Average -  cigarette currency      Published  2014   \n",
       "6204  Average -  cigarette currency      Published  2012   \n",
       "6205  Average -  cigarette currency      Published  2014   \n",
       "6206  Average -  cigarette currency      Published  2014   \n",
       "6207  Average -  cigarette currency      Published  2012   \n",
       "\n",
       "                 WHO region       Country Display Value  Numeric  Low  High  \\\n",
       "6198        Western Pacific      Malaysia           MYR      NaN  NaN   NaN   \n",
       "6199               Americas          Peru           PEN      NaN  NaN   NaN   \n",
       "6200        Western Pacific   Philippines           PHP      NaN  NaN   NaN   \n",
       "6201                 Europe        Sweden           SEK      NaN  NaN   NaN   \n",
       "6202        Western Pacific     Singapore           SGD      NaN  NaN   NaN   \n",
       "6203                 Africa  Sierra Leone           SLL      NaN  NaN   NaN   \n",
       "6204               Americas       Ecuador           USD      NaN  NaN   NaN   \n",
       "6205                 Africa      Zimbabwe           USD      NaN  NaN   NaN   \n",
       "6206                 Africa       Senegal           XOF      NaN  NaN   NaN   \n",
       "6207  Eastern Mediterranean         Yemen           YER      NaN  NaN   NaN   \n",
       "\n",
       "     Comments  \n",
       "6198      NaN  \n",
       "6199      NaN  \n",
       "6200      NaN  \n",
       "6201      NaN  \n",
       "6202      NaN  \n",
       "6203      NaN  \n",
       "6204      NaN  \n",
       "6205      NaN  \n",
       "6206      NaN  \n",
       "6207      NaN  "
      ]
     },
     "execution_count": 2,
     "metadata": {},
     "output_type": "execute_result"
    }
   ],
   "source": [
    "df = pd.read_csv(\"https://raw.githubusercontent.com/crishernandezmaps/python_training/master/data/tobacco.csv\",sep=\",\")\n",
    "df.tail(10)"
   ]
  },
  {
   "cell_type": "code",
   "execution_count": 3,
   "metadata": {},
   "outputs": [
    {
     "name": "stdout",
     "output_type": "stream",
     "text": [
      "<class 'pandas.core.frame.DataFrame'>\n",
      "RangeIndex: 6208 entries, 0 to 6207\n",
      "Data columns (total 10 columns):\n",
      "Indicator         6208 non-null object\n",
      "PUBLISH STATES    6208 non-null object\n",
      "Year              6208 non-null int64\n",
      "WHO region        6208 non-null object\n",
      "Country           6208 non-null object\n",
      "Display Value     6208 non-null object\n",
      "Numeric           2796 non-null float64\n",
      "Low               0 non-null float64\n",
      "High              0 non-null float64\n",
      "Comments          2431 non-null object\n",
      "dtypes: float64(3), int64(1), object(6)\n",
      "memory usage: 485.1+ KB\n"
     ]
    }
   ],
   "source": [
    "df.info()"
   ]
  },
  {
   "cell_type": "code",
   "execution_count": 4,
   "metadata": {},
   "outputs": [
    {
     "data": {
      "text/plain": [
       "2011.0"
      ]
     },
     "execution_count": 4,
     "metadata": {},
     "output_type": "execute_result"
    }
   ],
   "source": [
    "df['Year'].sum()\n",
    "df['Year'].cumsum()\n",
    "df['Year'].mean()"
   ]
  },
  {
   "cell_type": "code",
   "execution_count": 5,
   "metadata": {},
   "outputs": [
    {
     "data": {
      "text/plain": [
       "count       6208\n",
       "unique       194\n",
       "top       Greece\n",
       "freq          32\n",
       "Name: Country, dtype: object"
      ]
     },
     "execution_count": 5,
     "metadata": {},
     "output_type": "execute_result"
    }
   ],
   "source": [
    "df['Country'].describe()"
   ]
  },
  {
   "cell_type": "code",
   "execution_count": 6,
   "metadata": {},
   "outputs": [
    {
     "data": {
      "text/plain": [
       "2011.0"
      ]
     },
     "execution_count": 6,
     "metadata": {},
     "output_type": "execute_result"
    }
   ],
   "source": [
    "df['Year'].count()\n",
    "df['Year'].mean()\n",
    "df['Year'].std()\n",
    "df['Year'].min()\n",
    "df['Year'].max()\n",
    "df['Year'].median()"
   ]
  },
  {
   "cell_type": "code",
   "execution_count": 7,
   "metadata": {},
   "outputs": [
    {
     "name": "stdout",
     "output_type": "stream",
     "text": [
      "La desviacion estandar del año es: 2.24\n"
     ]
    }
   ],
   "source": [
    "x = df['Year'].std()\n",
    "print(\"La desviacion estandar del año es: \" + str(round(x,2)))"
   ]
  },
  {
   "cell_type": "code",
   "execution_count": 8,
   "metadata": {},
   "outputs": [
    {
     "name": "stdout",
     "output_type": "stream",
     "text": [
      "2011.0 6208.0\n"
     ]
    }
   ],
   "source": [
    "print(df['Year'].mean(), df['Year'].describe()[0])"
   ]
  },
  {
   "cell_type": "code",
   "execution_count": 9,
   "metadata": {},
   "outputs": [
    {
     "data": {
      "text/html": [
       "<div>\n",
       "<style scoped>\n",
       "    .dataframe tbody tr th:only-of-type {\n",
       "        vertical-align: middle;\n",
       "    }\n",
       "\n",
       "    .dataframe tbody tr th {\n",
       "        vertical-align: top;\n",
       "    }\n",
       "\n",
       "    .dataframe thead th {\n",
       "        text-align: right;\n",
       "    }\n",
       "</style>\n",
       "<table border=\"1\" class=\"dataframe\">\n",
       "  <thead>\n",
       "    <tr style=\"text-align: right;\">\n",
       "      <th></th>\n",
       "      <th>Year</th>\n",
       "      <th>Numeric</th>\n",
       "      <th>Low</th>\n",
       "      <th>High</th>\n",
       "    </tr>\n",
       "  </thead>\n",
       "  <tbody>\n",
       "    <tr>\n",
       "      <th>Year</th>\n",
       "      <td>5.000806</td>\n",
       "      <td>1.034956e+02</td>\n",
       "      <td>NaN</td>\n",
       "      <td>NaN</td>\n",
       "    </tr>\n",
       "    <tr>\n",
       "      <th>Numeric</th>\n",
       "      <td>103.495630</td>\n",
       "      <td>2.853145e+06</td>\n",
       "      <td>NaN</td>\n",
       "      <td>NaN</td>\n",
       "    </tr>\n",
       "    <tr>\n",
       "      <th>Low</th>\n",
       "      <td>NaN</td>\n",
       "      <td>NaN</td>\n",
       "      <td>NaN</td>\n",
       "      <td>NaN</td>\n",
       "    </tr>\n",
       "    <tr>\n",
       "      <th>High</th>\n",
       "      <td>NaN</td>\n",
       "      <td>NaN</td>\n",
       "      <td>NaN</td>\n",
       "      <td>NaN</td>\n",
       "    </tr>\n",
       "  </tbody>\n",
       "</table>\n",
       "</div>"
      ],
      "text/plain": [
       "               Year       Numeric  Low  High\n",
       "Year       5.000806  1.034956e+02  NaN   NaN\n",
       "Numeric  103.495630  2.853145e+06  NaN   NaN\n",
       "Low             NaN           NaN  NaN   NaN\n",
       "High            NaN           NaN  NaN   NaN"
      ]
     },
     "execution_count": 9,
     "metadata": {},
     "output_type": "execute_result"
    }
   ],
   "source": [
    "df.corr()\n",
    "df.cov()"
   ]
  },
  {
   "cell_type": "markdown",
   "metadata": {},
   "source": [
    "## Join, Merge, Append and Concatenate dataframes "
   ]
  },
  {
   "cell_type": "code",
   "execution_count": 13,
   "metadata": {},
   "outputs": [],
   "source": [
    "a = pd.DataFrame(np.random.random((5,3)), columns=['x1','x2','x3'])\n",
    "b = pd.DataFrame(np.random.random((6,5)), columns=['y1','y2','x3','y4','y5'])"
   ]
  },
  {
   "cell_type": "code",
   "execution_count": 26,
   "metadata": {},
   "outputs": [
    {
     "data": {
      "text/html": [
       "<div>\n",
       "<style scoped>\n",
       "    .dataframe tbody tr th:only-of-type {\n",
       "        vertical-align: middle;\n",
       "    }\n",
       "\n",
       "    .dataframe tbody tr th {\n",
       "        vertical-align: top;\n",
       "    }\n",
       "\n",
       "    .dataframe thead th {\n",
       "        text-align: right;\n",
       "    }\n",
       "</style>\n",
       "<table border=\"1\" class=\"dataframe\">\n",
       "  <thead>\n",
       "    <tr style=\"text-align: right;\">\n",
       "      <th></th>\n",
       "      <th>x1</th>\n",
       "      <th>x2</th>\n",
       "      <th>x3</th>\n",
       "    </tr>\n",
       "  </thead>\n",
       "  <tbody>\n",
       "    <tr>\n",
       "      <th>0</th>\n",
       "      <td>0.056014</td>\n",
       "      <td>0.556223</td>\n",
       "      <td>0.321706</td>\n",
       "    </tr>\n",
       "    <tr>\n",
       "      <th>1</th>\n",
       "      <td>0.659243</td>\n",
       "      <td>0.011174</td>\n",
       "      <td>0.272446</td>\n",
       "    </tr>\n",
       "    <tr>\n",
       "      <th>2</th>\n",
       "      <td>0.238455</td>\n",
       "      <td>0.868065</td>\n",
       "      <td>0.636748</td>\n",
       "    </tr>\n",
       "    <tr>\n",
       "      <th>3</th>\n",
       "      <td>0.382084</td>\n",
       "      <td>0.616612</td>\n",
       "      <td>0.483330</td>\n",
       "    </tr>\n",
       "    <tr>\n",
       "      <th>4</th>\n",
       "      <td>0.708804</td>\n",
       "      <td>0.904605</td>\n",
       "      <td>0.421148</td>\n",
       "    </tr>\n",
       "  </tbody>\n",
       "</table>\n",
       "</div>"
      ],
      "text/plain": [
       "         x1        x2        x3\n",
       "0  0.056014  0.556223  0.321706\n",
       "1  0.659243  0.011174  0.272446\n",
       "2  0.238455  0.868065  0.636748\n",
       "3  0.382084  0.616612  0.483330\n",
       "4  0.708804  0.904605  0.421148"
      ]
     },
     "execution_count": 26,
     "metadata": {},
     "output_type": "execute_result"
    }
   ],
   "source": [
    "a"
   ]
  },
  {
   "cell_type": "code",
   "execution_count": 13,
   "metadata": {},
   "outputs": [
    {
     "data": {
      "text/html": [
       "<div>\n",
       "<style>\n",
       "    .dataframe thead tr:only-child th {\n",
       "        text-align: right;\n",
       "    }\n",
       "\n",
       "    .dataframe thead th {\n",
       "        text-align: left;\n",
       "    }\n",
       "\n",
       "    .dataframe tbody tr th {\n",
       "        vertical-align: top;\n",
       "    }\n",
       "</style>\n",
       "<table border=\"1\" class=\"dataframe\">\n",
       "  <thead>\n",
       "    <tr style=\"text-align: right;\">\n",
       "      <th></th>\n",
       "      <th>y1</th>\n",
       "      <th>y2</th>\n",
       "      <th>x3</th>\n",
       "      <th>y4</th>\n",
       "      <th>y5</th>\n",
       "    </tr>\n",
       "  </thead>\n",
       "  <tbody>\n",
       "    <tr>\n",
       "      <th>0</th>\n",
       "      <td>0.934557</td>\n",
       "      <td>0.902908</td>\n",
       "      <td>0.502654</td>\n",
       "      <td>0.500391</td>\n",
       "      <td>0.196027</td>\n",
       "    </tr>\n",
       "    <tr>\n",
       "      <th>1</th>\n",
       "      <td>0.899578</td>\n",
       "      <td>0.289798</td>\n",
       "      <td>0.441114</td>\n",
       "      <td>0.616425</td>\n",
       "      <td>0.540659</td>\n",
       "    </tr>\n",
       "    <tr>\n",
       "      <th>2</th>\n",
       "      <td>0.459057</td>\n",
       "      <td>0.236640</td>\n",
       "      <td>0.777243</td>\n",
       "      <td>0.136283</td>\n",
       "      <td>0.428242</td>\n",
       "    </tr>\n",
       "    <tr>\n",
       "      <th>3</th>\n",
       "      <td>0.633913</td>\n",
       "      <td>0.400254</td>\n",
       "      <td>0.539142</td>\n",
       "      <td>0.971130</td>\n",
       "      <td>0.530622</td>\n",
       "    </tr>\n",
       "    <tr>\n",
       "      <th>4</th>\n",
       "      <td>0.362965</td>\n",
       "      <td>0.662236</td>\n",
       "      <td>0.743129</td>\n",
       "      <td>0.096773</td>\n",
       "      <td>0.372263</td>\n",
       "    </tr>\n",
       "    <tr>\n",
       "      <th>5</th>\n",
       "      <td>0.353321</td>\n",
       "      <td>0.747637</td>\n",
       "      <td>0.885137</td>\n",
       "      <td>0.990181</td>\n",
       "      <td>0.209602</td>\n",
       "    </tr>\n",
       "  </tbody>\n",
       "</table>\n",
       "</div>"
      ],
      "text/plain": [
       "         y1        y2        x3        y4        y5\n",
       "0  0.934557  0.902908  0.502654  0.500391  0.196027\n",
       "1  0.899578  0.289798  0.441114  0.616425  0.540659\n",
       "2  0.459057  0.236640  0.777243  0.136283  0.428242\n",
       "3  0.633913  0.400254  0.539142  0.971130  0.530622\n",
       "4  0.362965  0.662236  0.743129  0.096773  0.372263\n",
       "5  0.353321  0.747637  0.885137  0.990181  0.209602"
      ]
     },
     "execution_count": 13,
     "metadata": {},
     "output_type": "execute_result"
    }
   ],
   "source": [
    "b"
   ]
  },
  {
   "cell_type": "code",
   "execution_count": 27,
   "metadata": {},
   "outputs": [],
   "source": [
    "a.insert(0, 'ID', range(879, 879 + len(a)))"
   ]
  },
  {
   "cell_type": "code",
   "execution_count": 28,
   "metadata": {},
   "outputs": [],
   "source": [
    "b.insert(0, 'ID', range(880, 880 + len(b)))"
   ]
  },
  {
   "cell_type": "code",
   "execution_count": 33,
   "metadata": {},
   "outputs": [
    {
     "name": "stdout",
     "output_type": "stream",
     "text": [
      "1D arr : \n",
      " [0 1 2 3 4]\n",
      "Shape :  (5,)\n",
      "\n",
      "Array after insertion :  [0 1 2 3 9 4]\n",
      "Shape :  (6,)\n"
     ]
    }
   ],
   "source": [
    "#Working on 1D \n",
    "arr = np.arange(5) \n",
    "print(\"1D arr : \\n\", arr) \n",
    "print(\"Shape : \", arr.shape) \n",
    "z = np.insert(arr, 4, 9) \n",
    "print(\"\\nArray after insertion : \", z) \n",
    "print(\"Shape : \", z.shape) "
   ]
  },
  {
   "cell_type": "code",
   "execution_count": 34,
   "metadata": {},
   "outputs": [
    {
     "data": {
      "text/html": [
       "<div>\n",
       "<style scoped>\n",
       "    .dataframe tbody tr th:only-of-type {\n",
       "        vertical-align: middle;\n",
       "    }\n",
       "\n",
       "    .dataframe tbody tr th {\n",
       "        vertical-align: top;\n",
       "    }\n",
       "\n",
       "    .dataframe thead th {\n",
       "        text-align: right;\n",
       "    }\n",
       "</style>\n",
       "<table border=\"1\" class=\"dataframe\">\n",
       "  <thead>\n",
       "    <tr style=\"text-align: right;\">\n",
       "      <th></th>\n",
       "      <th>ID</th>\n",
       "      <th>x1</th>\n",
       "      <th>x2</th>\n",
       "      <th>x3</th>\n",
       "    </tr>\n",
       "  </thead>\n",
       "  <tbody>\n",
       "    <tr>\n",
       "      <th>0</th>\n",
       "      <td>879</td>\n",
       "      <td>0.056014</td>\n",
       "      <td>0.556223</td>\n",
       "      <td>0.321706</td>\n",
       "    </tr>\n",
       "    <tr>\n",
       "      <th>1</th>\n",
       "      <td>880</td>\n",
       "      <td>0.659243</td>\n",
       "      <td>0.011174</td>\n",
       "      <td>0.272446</td>\n",
       "    </tr>\n",
       "    <tr>\n",
       "      <th>2</th>\n",
       "      <td>881</td>\n",
       "      <td>0.238455</td>\n",
       "      <td>0.868065</td>\n",
       "      <td>0.636748</td>\n",
       "    </tr>\n",
       "    <tr>\n",
       "      <th>3</th>\n",
       "      <td>882</td>\n",
       "      <td>0.382084</td>\n",
       "      <td>0.616612</td>\n",
       "      <td>0.483330</td>\n",
       "    </tr>\n",
       "    <tr>\n",
       "      <th>4</th>\n",
       "      <td>883</td>\n",
       "      <td>0.708804</td>\n",
       "      <td>0.904605</td>\n",
       "      <td>0.421148</td>\n",
       "    </tr>\n",
       "  </tbody>\n",
       "</table>\n",
       "</div>"
      ],
      "text/plain": [
       "    ID        x1        x2        x3\n",
       "0  879  0.056014  0.556223  0.321706\n",
       "1  880  0.659243  0.011174  0.272446\n",
       "2  881  0.238455  0.868065  0.636748\n",
       "3  882  0.382084  0.616612  0.483330\n",
       "4  883  0.708804  0.904605  0.421148"
      ]
     },
     "execution_count": 34,
     "metadata": {},
     "output_type": "execute_result"
    }
   ],
   "source": [
    "a"
   ]
  },
  {
   "cell_type": "code",
   "execution_count": 35,
   "metadata": {},
   "outputs": [
    {
     "data": {
      "text/html": [
       "<div>\n",
       "<style scoped>\n",
       "    .dataframe tbody tr th:only-of-type {\n",
       "        vertical-align: middle;\n",
       "    }\n",
       "\n",
       "    .dataframe tbody tr th {\n",
       "        vertical-align: top;\n",
       "    }\n",
       "\n",
       "    .dataframe thead th {\n",
       "        text-align: right;\n",
       "    }\n",
       "</style>\n",
       "<table border=\"1\" class=\"dataframe\">\n",
       "  <thead>\n",
       "    <tr style=\"text-align: right;\">\n",
       "      <th></th>\n",
       "      <th>ID</th>\n",
       "      <th>y1</th>\n",
       "      <th>y2</th>\n",
       "      <th>x3</th>\n",
       "      <th>y4</th>\n",
       "      <th>y5</th>\n",
       "    </tr>\n",
       "  </thead>\n",
       "  <tbody>\n",
       "    <tr>\n",
       "      <th>0</th>\n",
       "      <td>880</td>\n",
       "      <td>0.371134</td>\n",
       "      <td>0.248079</td>\n",
       "      <td>0.781467</td>\n",
       "      <td>0.414813</td>\n",
       "      <td>0.166878</td>\n",
       "    </tr>\n",
       "    <tr>\n",
       "      <th>1</th>\n",
       "      <td>881</td>\n",
       "      <td>0.037386</td>\n",
       "      <td>0.478039</td>\n",
       "      <td>0.065952</td>\n",
       "      <td>0.509563</td>\n",
       "      <td>0.295576</td>\n",
       "    </tr>\n",
       "    <tr>\n",
       "      <th>2</th>\n",
       "      <td>882</td>\n",
       "      <td>0.198883</td>\n",
       "      <td>0.946844</td>\n",
       "      <td>0.760458</td>\n",
       "      <td>0.785920</td>\n",
       "      <td>0.437999</td>\n",
       "    </tr>\n",
       "    <tr>\n",
       "      <th>3</th>\n",
       "      <td>883</td>\n",
       "      <td>0.407783</td>\n",
       "      <td>0.431212</td>\n",
       "      <td>0.788041</td>\n",
       "      <td>0.443548</td>\n",
       "      <td>0.196213</td>\n",
       "    </tr>\n",
       "    <tr>\n",
       "      <th>4</th>\n",
       "      <td>884</td>\n",
       "      <td>0.892041</td>\n",
       "      <td>0.943920</td>\n",
       "      <td>0.974018</td>\n",
       "      <td>0.092488</td>\n",
       "      <td>0.724056</td>\n",
       "    </tr>\n",
       "    <tr>\n",
       "      <th>5</th>\n",
       "      <td>885</td>\n",
       "      <td>0.702567</td>\n",
       "      <td>0.321748</td>\n",
       "      <td>0.005395</td>\n",
       "      <td>0.424443</td>\n",
       "      <td>0.302178</td>\n",
       "    </tr>\n",
       "  </tbody>\n",
       "</table>\n",
       "</div>"
      ],
      "text/plain": [
       "    ID        y1        y2        x3        y4        y5\n",
       "0  880  0.371134  0.248079  0.781467  0.414813  0.166878\n",
       "1  881  0.037386  0.478039  0.065952  0.509563  0.295576\n",
       "2  882  0.198883  0.946844  0.760458  0.785920  0.437999\n",
       "3  883  0.407783  0.431212  0.788041  0.443548  0.196213\n",
       "4  884  0.892041  0.943920  0.974018  0.092488  0.724056\n",
       "5  885  0.702567  0.321748  0.005395  0.424443  0.302178"
      ]
     },
     "execution_count": 35,
     "metadata": {},
     "output_type": "execute_result"
    }
   ],
   "source": [
    "b"
   ]
  },
  {
   "cell_type": "markdown",
   "metadata": {},
   "source": [
    "#### Join/Merge "
   ]
  },
  {
   "cell_type": "code",
   "execution_count": 53,
   "metadata": {},
   "outputs": [
    {
     "data": {
      "text/html": [
       "<div>\n",
       "<style scoped>\n",
       "    .dataframe tbody tr th:only-of-type {\n",
       "        vertical-align: middle;\n",
       "    }\n",
       "\n",
       "    .dataframe tbody tr th {\n",
       "        vertical-align: top;\n",
       "    }\n",
       "\n",
       "    .dataframe thead th {\n",
       "        text-align: right;\n",
       "    }\n",
       "</style>\n",
       "<table border=\"1\" class=\"dataframe\">\n",
       "  <thead>\n",
       "    <tr style=\"text-align: right;\">\n",
       "      <th></th>\n",
       "      <th>ID</th>\n",
       "      <th>x1</th>\n",
       "      <th>x2</th>\n",
       "      <th>x3</th>\n",
       "      <th>y1</th>\n",
       "      <th>y2</th>\n",
       "      <th>y4</th>\n",
       "      <th>y5</th>\n",
       "    </tr>\n",
       "  </thead>\n",
       "  <tbody>\n",
       "    <tr>\n",
       "      <th>0</th>\n",
       "      <td>879</td>\n",
       "      <td>0.056014</td>\n",
       "      <td>0.556223</td>\n",
       "      <td>0.321706</td>\n",
       "      <td>NaN</td>\n",
       "      <td>NaN</td>\n",
       "      <td>NaN</td>\n",
       "      <td>NaN</td>\n",
       "    </tr>\n",
       "    <tr>\n",
       "      <th>1</th>\n",
       "      <td>880</td>\n",
       "      <td>0.659243</td>\n",
       "      <td>0.011174</td>\n",
       "      <td>0.272446</td>\n",
       "      <td>NaN</td>\n",
       "      <td>NaN</td>\n",
       "      <td>NaN</td>\n",
       "      <td>NaN</td>\n",
       "    </tr>\n",
       "    <tr>\n",
       "      <th>2</th>\n",
       "      <td>881</td>\n",
       "      <td>0.238455</td>\n",
       "      <td>0.868065</td>\n",
       "      <td>0.636748</td>\n",
       "      <td>NaN</td>\n",
       "      <td>NaN</td>\n",
       "      <td>NaN</td>\n",
       "      <td>NaN</td>\n",
       "    </tr>\n",
       "    <tr>\n",
       "      <th>3</th>\n",
       "      <td>882</td>\n",
       "      <td>0.382084</td>\n",
       "      <td>0.616612</td>\n",
       "      <td>0.483330</td>\n",
       "      <td>NaN</td>\n",
       "      <td>NaN</td>\n",
       "      <td>NaN</td>\n",
       "      <td>NaN</td>\n",
       "    </tr>\n",
       "    <tr>\n",
       "      <th>4</th>\n",
       "      <td>883</td>\n",
       "      <td>0.708804</td>\n",
       "      <td>0.904605</td>\n",
       "      <td>0.421148</td>\n",
       "      <td>NaN</td>\n",
       "      <td>NaN</td>\n",
       "      <td>NaN</td>\n",
       "      <td>NaN</td>\n",
       "    </tr>\n",
       "    <tr>\n",
       "      <th>5</th>\n",
       "      <td>880</td>\n",
       "      <td>NaN</td>\n",
       "      <td>NaN</td>\n",
       "      <td>0.781467</td>\n",
       "      <td>0.371134</td>\n",
       "      <td>0.248079</td>\n",
       "      <td>0.414813</td>\n",
       "      <td>0.166878</td>\n",
       "    </tr>\n",
       "    <tr>\n",
       "      <th>6</th>\n",
       "      <td>881</td>\n",
       "      <td>NaN</td>\n",
       "      <td>NaN</td>\n",
       "      <td>0.065952</td>\n",
       "      <td>0.037386</td>\n",
       "      <td>0.478039</td>\n",
       "      <td>0.509563</td>\n",
       "      <td>0.295576</td>\n",
       "    </tr>\n",
       "    <tr>\n",
       "      <th>7</th>\n",
       "      <td>882</td>\n",
       "      <td>NaN</td>\n",
       "      <td>NaN</td>\n",
       "      <td>0.760458</td>\n",
       "      <td>0.198883</td>\n",
       "      <td>0.946844</td>\n",
       "      <td>0.785920</td>\n",
       "      <td>0.437999</td>\n",
       "    </tr>\n",
       "    <tr>\n",
       "      <th>8</th>\n",
       "      <td>883</td>\n",
       "      <td>NaN</td>\n",
       "      <td>NaN</td>\n",
       "      <td>0.788041</td>\n",
       "      <td>0.407783</td>\n",
       "      <td>0.431212</td>\n",
       "      <td>0.443548</td>\n",
       "      <td>0.196213</td>\n",
       "    </tr>\n",
       "    <tr>\n",
       "      <th>9</th>\n",
       "      <td>884</td>\n",
       "      <td>NaN</td>\n",
       "      <td>NaN</td>\n",
       "      <td>0.974018</td>\n",
       "      <td>0.892041</td>\n",
       "      <td>0.943920</td>\n",
       "      <td>0.092488</td>\n",
       "      <td>0.724056</td>\n",
       "    </tr>\n",
       "    <tr>\n",
       "      <th>10</th>\n",
       "      <td>885</td>\n",
       "      <td>NaN</td>\n",
       "      <td>NaN</td>\n",
       "      <td>0.005395</td>\n",
       "      <td>0.702567</td>\n",
       "      <td>0.321748</td>\n",
       "      <td>0.424443</td>\n",
       "      <td>0.302178</td>\n",
       "    </tr>\n",
       "  </tbody>\n",
       "</table>\n",
       "</div>"
      ],
      "text/plain": [
       "     ID        x1        x2        x3        y1        y2        y4        y5\n",
       "0   879  0.056014  0.556223  0.321706       NaN       NaN       NaN       NaN\n",
       "1   880  0.659243  0.011174  0.272446       NaN       NaN       NaN       NaN\n",
       "2   881  0.238455  0.868065  0.636748       NaN       NaN       NaN       NaN\n",
       "3   882  0.382084  0.616612  0.483330       NaN       NaN       NaN       NaN\n",
       "4   883  0.708804  0.904605  0.421148       NaN       NaN       NaN       NaN\n",
       "5   880       NaN       NaN  0.781467  0.371134  0.248079  0.414813  0.166878\n",
       "6   881       NaN       NaN  0.065952  0.037386  0.478039  0.509563  0.295576\n",
       "7   882       NaN       NaN  0.760458  0.198883  0.946844  0.785920  0.437999\n",
       "8   883       NaN       NaN  0.788041  0.407783  0.431212  0.443548  0.196213\n",
       "9   884       NaN       NaN  0.974018  0.892041  0.943920  0.092488  0.724056\n",
       "10  885       NaN       NaN  0.005395  0.702567  0.321748  0.424443  0.302178"
      ]
     },
     "execution_count": 53,
     "metadata": {},
     "output_type": "execute_result"
    }
   ],
   "source": [
    "# pd.merge(a, b, on='ID')\n",
    "# pd.merge(a, b, on=['ID','x3'])\n",
    "# pd.merge(a, b, how='outer', on='ID')\n",
    "# pd.merge(a, b, how='inner', on=['ID','x3'])\n",
    "pd.merge(a, b, how='outer', on=['ID','x3'])"
   ]
  },
  {
   "cell_type": "code",
   "execution_count": 54,
   "metadata": {},
   "outputs": [
    {
     "data": {
      "text/html": [
       "<div>\n",
       "<style scoped>\n",
       "    .dataframe tbody tr th:only-of-type {\n",
       "        vertical-align: middle;\n",
       "    }\n",
       "\n",
       "    .dataframe tbody tr th {\n",
       "        vertical-align: top;\n",
       "    }\n",
       "\n",
       "    .dataframe thead th {\n",
       "        text-align: right;\n",
       "    }\n",
       "</style>\n",
       "<table border=\"1\" class=\"dataframe\">\n",
       "  <thead>\n",
       "    <tr style=\"text-align: right;\">\n",
       "      <th></th>\n",
       "      <th>ID</th>\n",
       "      <th>x1</th>\n",
       "      <th>x2</th>\n",
       "      <th>x3</th>\n",
       "      <th>y1</th>\n",
       "      <th>y2</th>\n",
       "      <th>y4</th>\n",
       "      <th>y5</th>\n",
       "    </tr>\n",
       "  </thead>\n",
       "  <tbody>\n",
       "  </tbody>\n",
       "</table>\n",
       "</div>"
      ],
      "text/plain": [
       "Empty DataFrame\n",
       "Columns: [ID, x1, x2, x3, y1, y2, y4, y5]\n",
       "Index: []"
      ]
     },
     "execution_count": 54,
     "metadata": {},
     "output_type": "execute_result"
    }
   ],
   "source": [
    "pd.merge(a, b, on=['ID','x3'], how='inner')"
   ]
  },
  {
   "cell_type": "markdown",
   "metadata": {},
   "source": [
    "##### Append/Concat "
   ]
  },
  {
   "cell_type": "code",
   "execution_count": 74,
   "metadata": {},
   "outputs": [],
   "source": [
    "# List of dataframes\n",
    "frames = [b,a]"
   ]
  },
  {
   "cell_type": "code",
   "execution_count": 80,
   "metadata": {},
   "outputs": [
    {
     "data": {
      "text/html": [
       "<div>\n",
       "<style scoped>\n",
       "    .dataframe tbody tr th:only-of-type {\n",
       "        vertical-align: middle;\n",
       "    }\n",
       "\n",
       "    .dataframe tbody tr th {\n",
       "        vertical-align: top;\n",
       "    }\n",
       "\n",
       "    .dataframe thead th {\n",
       "        text-align: right;\n",
       "    }\n",
       "</style>\n",
       "<table border=\"1\" class=\"dataframe\">\n",
       "  <thead>\n",
       "    <tr style=\"text-align: right;\">\n",
       "      <th></th>\n",
       "      <th>ID</th>\n",
       "      <th>x3</th>\n",
       "    </tr>\n",
       "  </thead>\n",
       "  <tbody>\n",
       "    <tr>\n",
       "      <th>0</th>\n",
       "      <td>880</td>\n",
       "      <td>0.781467</td>\n",
       "    </tr>\n",
       "    <tr>\n",
       "      <th>1</th>\n",
       "      <td>881</td>\n",
       "      <td>0.065952</td>\n",
       "    </tr>\n",
       "    <tr>\n",
       "      <th>2</th>\n",
       "      <td>882</td>\n",
       "      <td>0.760458</td>\n",
       "    </tr>\n",
       "    <tr>\n",
       "      <th>3</th>\n",
       "      <td>883</td>\n",
       "      <td>0.788041</td>\n",
       "    </tr>\n",
       "    <tr>\n",
       "      <th>4</th>\n",
       "      <td>884</td>\n",
       "      <td>0.974018</td>\n",
       "    </tr>\n",
       "    <tr>\n",
       "      <th>5</th>\n",
       "      <td>885</td>\n",
       "      <td>0.005395</td>\n",
       "    </tr>\n",
       "    <tr>\n",
       "      <th>0</th>\n",
       "      <td>879</td>\n",
       "      <td>0.321706</td>\n",
       "    </tr>\n",
       "    <tr>\n",
       "      <th>1</th>\n",
       "      <td>880</td>\n",
       "      <td>0.272446</td>\n",
       "    </tr>\n",
       "    <tr>\n",
       "      <th>2</th>\n",
       "      <td>881</td>\n",
       "      <td>0.636748</td>\n",
       "    </tr>\n",
       "    <tr>\n",
       "      <th>3</th>\n",
       "      <td>882</td>\n",
       "      <td>0.483330</td>\n",
       "    </tr>\n",
       "    <tr>\n",
       "      <th>4</th>\n",
       "      <td>883</td>\n",
       "      <td>0.421148</td>\n",
       "    </tr>\n",
       "  </tbody>\n",
       "</table>\n",
       "</div>"
      ],
      "text/plain": [
       "    ID        x3\n",
       "0  880  0.781467\n",
       "1  881  0.065952\n",
       "2  882  0.760458\n",
       "3  883  0.788041\n",
       "4  884  0.974018\n",
       "5  885  0.005395\n",
       "0  879  0.321706\n",
       "1  880  0.272446\n",
       "2  881  0.636748\n",
       "3  882  0.483330\n",
       "4  883  0.421148"
      ]
     },
     "execution_count": 80,
     "metadata": {},
     "output_type": "execute_result"
    }
   ],
   "source": [
    "# a.append(b)\n",
    "# pd.concat(frames, sort=True)\n",
    "# pd.concat(frames, keys=['pan', 'amasado'], sort=True)\n",
    "# pd.concat(frames, sort=True, axis=0)\n",
    "# pd.concat(frames, axis=1, join='outer', sort=True) # default\n",
    "pd.concat(frames, axis=0, join='inner', sort=True)"
   ]
  },
  {
   "cell_type": "markdown",
   "metadata": {},
   "source": [
    "## Using Functions "
   ]
  },
  {
   "cell_type": "code",
   "execution_count": 84,
   "metadata": {},
   "outputs": [
    {
     "data": {
      "text/plain": [
       "array([0, 1, 2, 3, 4, 5, 6, 7, 8, 9])"
      ]
     },
     "execution_count": 84,
     "metadata": {},
     "output_type": "execute_result"
    }
   ],
   "source": [
    "# How to transform all the numbers on a list to strings\n",
    "listOfNumbers = np.arange(10)\n",
    "listOfNumbers"
   ]
  },
  {
   "cell_type": "code",
   "execution_count": 85,
   "metadata": {},
   "outputs": [
    {
     "data": {
      "text/plain": [
       "['0', '1', '2', '3', '4', '5', '6', '7', '8', '9']"
      ]
     },
     "execution_count": 85,
     "metadata": {},
     "output_type": "execute_result"
    }
   ],
   "source": [
    "# Let's try a for loop\n",
    "transformedElements = []\n",
    "for i in listOfNumbers:\n",
    "    transformedElements.append(i.astype(str))\n",
    "\n",
    "transformedElements"
   ]
  },
  {
   "cell_type": "code",
   "execution_count": 88,
   "metadata": {},
   "outputs": [
    {
     "data": {
      "text/plain": [
       "array([[2, 4, 0, 3, 1, 1, 0, 2, 0, 2, 3, 4, 0, 1, 2, 2, 4, 3, 3, 2, 3, 0,\n",
       "        2, 2, 2, 3, 2, 4, 4, 1, 2, 2, 4, 0, 1, 1, 2, 3, 2, 4, 4, 0, 2, 1,\n",
       "        4, 0, 4, 0, 1, 0, 1, 3, 4, 0, 1, 2, 2, 2, 1, 4, 1, 2, 3, 2, 3, 4,\n",
       "        1, 1, 4, 0, 2, 3, 2, 0, 0, 4, 1, 2, 0, 4, 0, 1, 2, 0, 3, 2, 2, 2,\n",
       "        2, 1, 1, 1, 3, 4, 0, 0, 1, 1, 1, 3],\n",
       "       [3, 2, 4, 2, 2, 0, 0, 1, 4, 0, 0, 3, 4, 3, 4, 0, 3, 0, 0, 2, 2, 4,\n",
       "        3, 0, 2, 1, 3, 1, 1, 2, 4, 4, 2, 4, 4, 4, 0, 1, 2, 0, 0, 3, 4, 2,\n",
       "        4, 1, 2, 1, 4, 3, 3, 1, 1, 2, 3, 3, 1, 3, 3, 0, 4, 1, 3, 3, 2, 2,\n",
       "        1, 0, 3, 3, 0, 0, 4, 1, 4, 1, 4, 2, 1, 3, 3, 1, 0, 1, 3, 4, 3, 2,\n",
       "        4, 2, 1, 0, 1, 3, 2, 1, 3, 1, 0, 4],\n",
       "       [2, 3, 0, 3, 0, 3, 3, 0, 4, 0, 1, 3, 3, 2, 4, 1, 1, 4, 2, 1, 1, 0,\n",
       "        0, 3, 3, 3, 3, 2, 3, 4, 0, 0, 3, 2, 0, 1, 1, 3, 1, 3, 3, 4, 0, 4,\n",
       "        2, 4, 4, 1, 4, 0, 3, 2, 0, 3, 1, 0, 0, 0, 3, 3, 4, 1, 0, 1, 0, 1,\n",
       "        0, 4, 3, 0, 4, 2, 3, 2, 0, 4, 3, 2, 3, 3, 4, 0, 0, 0, 0, 0, 2, 2,\n",
       "        2, 4, 1, 2, 2, 4, 1, 4, 2, 0, 3, 4],\n",
       "       [1, 4, 1, 0, 0, 4, 1, 1, 2, 1, 0, 4, 0, 0, 3, 4, 0, 2, 3, 0, 3, 2,\n",
       "        3, 4, 0, 1, 0, 1, 0, 4, 0, 1, 1, 1, 2, 2, 4, 1, 1, 3, 3, 3, 1, 0,\n",
       "        0, 1, 2, 1, 2, 2, 3, 2, 3, 3, 2, 4, 1, 4, 4, 4, 0, 1, 0, 1, 1, 4,\n",
       "        0, 3, 3, 0, 0, 4, 3, 2, 2, 1, 1, 4, 1, 1, 0, 1, 1, 3, 0, 3, 0, 0,\n",
       "        3, 2, 2, 3, 0, 1, 2, 1, 2, 2, 0, 2],\n",
       "       [4, 4, 0, 0, 2, 4, 0, 2, 1, 1, 3, 2, 4, 0, 4, 4, 2, 0, 1, 2, 4, 4,\n",
       "        1, 4, 0, 1, 4, 3, 2, 4, 4, 2, 3, 1, 4, 0, 4, 4, 1, 0, 4, 4, 4, 1,\n",
       "        3, 0, 0, 2, 1, 3, 1, 1, 2, 1, 3, 3, 1, 0, 1, 3, 3, 2, 1, 2, 3, 3,\n",
       "        2, 0, 2, 3, 3, 2, 4, 2, 3, 4, 2, 0, 0, 3, 0, 1, 4, 3, 0, 1, 0, 3,\n",
       "        1, 3, 3, 1, 2, 0, 0, 3, 0, 0, 2, 2]])"
      ]
     },
     "execution_count": 88,
     "metadata": {},
     "output_type": "execute_result"
    }
   ],
   "source": [
    "# Transform all this elements of this lists to strings\n",
    "lists = np.random.randint(5, size=(5, 100)) # Numpy array with five lists of 10 elements\n",
    "lists"
   ]
  },
  {
   "cell_type": "code",
   "execution_count": 89,
   "metadata": {},
   "outputs": [
    {
     "data": {
      "text/plain": [
       "array([2, 4, 0, 3, 1, 1, 0, 2, 0, 2, 3, 4, 0, 1, 2, 2, 4, 3, 3, 2, 3, 0,\n",
       "       2, 2, 2, 3, 2, 4, 4, 1, 2, 2, 4, 0, 1, 1, 2, 3, 2, 4, 4, 0, 2, 1,\n",
       "       4, 0, 4, 0, 1, 0, 1, 3, 4, 0, 1, 2, 2, 2, 1, 4, 1, 2, 3, 2, 3, 4,\n",
       "       1, 1, 4, 0, 2, 3, 2, 0, 0, 4, 1, 2, 0, 4, 0, 1, 2, 0, 3, 2, 2, 2,\n",
       "       2, 1, 1, 1, 3, 4, 0, 0, 1, 1, 1, 3])"
      ]
     },
     "execution_count": 89,
     "metadata": {},
     "output_type": "execute_result"
    }
   ],
   "source": [
    "lists[0] # First list"
   ]
  },
  {
   "cell_type": "code",
   "execution_count": 98,
   "metadata": {},
   "outputs": [],
   "source": [
    "rom decimal import *"
   ]
  },
  {
   "cell_type": "code",
   "execution_count": 102,
   "metadata": {},
   "outputs": [
    {
     "data": {
      "text/plain": [
       "Decimal('10')"
      ]
     },
     "execution_count": 102,
     "metadata": {},
     "output_type": "execute_result"
    }
   ],
   "source": [
    "Decimal(10)"
   ]
  },
  {
   "cell_type": "code",
   "execution_count": 113,
   "metadata": {
    "scrolled": true
   },
   "outputs": [
    {
     "data": {
      "text/plain": [
       "['2.0000',\n",
       " '4.0000',\n",
       " '0.0000',\n",
       " '3.0000',\n",
       " '1.0000',\n",
       " '1.0000',\n",
       " '0.0000',\n",
       " '2.0000',\n",
       " '0.0000',\n",
       " '2.0000',\n",
       " '3.0000',\n",
       " '4.0000',\n",
       " '0.0000',\n",
       " '1.0000',\n",
       " '2.0000',\n",
       " '2.0000',\n",
       " '4.0000',\n",
       " '3.0000',\n",
       " '3.0000',\n",
       " '2.0000',\n",
       " '3.0000',\n",
       " '0.0000',\n",
       " '2.0000',\n",
       " '2.0000',\n",
       " '2.0000',\n",
       " '3.0000',\n",
       " '2.0000',\n",
       " '4.0000',\n",
       " '4.0000',\n",
       " '1.0000',\n",
       " '2.0000',\n",
       " '2.0000',\n",
       " '4.0000',\n",
       " '0.0000',\n",
       " '1.0000',\n",
       " '1.0000',\n",
       " '2.0000',\n",
       " '3.0000',\n",
       " '2.0000',\n",
       " '4.0000',\n",
       " '4.0000',\n",
       " '0.0000',\n",
       " '2.0000',\n",
       " '1.0000',\n",
       " '4.0000',\n",
       " '0.0000',\n",
       " '4.0000',\n",
       " '0.0000',\n",
       " '1.0000',\n",
       " '0.0000',\n",
       " '1.0000',\n",
       " '3.0000',\n",
       " '4.0000',\n",
       " '0.0000',\n",
       " '1.0000',\n",
       " '2.0000',\n",
       " '2.0000',\n",
       " '2.0000',\n",
       " '1.0000',\n",
       " '4.0000',\n",
       " '1.0000',\n",
       " '2.0000',\n",
       " '3.0000',\n",
       " '2.0000',\n",
       " '3.0000',\n",
       " '4.0000',\n",
       " '1.0000',\n",
       " '1.0000',\n",
       " '4.0000',\n",
       " '0.0000',\n",
       " '2.0000',\n",
       " '3.0000',\n",
       " '2.0000',\n",
       " '0.0000',\n",
       " '0.0000',\n",
       " '4.0000',\n",
       " '1.0000',\n",
       " '2.0000',\n",
       " '0.0000',\n",
       " '4.0000',\n",
       " '0.0000',\n",
       " '1.0000',\n",
       " '2.0000',\n",
       " '0.0000',\n",
       " '3.0000',\n",
       " '2.0000',\n",
       " '2.0000',\n",
       " '2.0000',\n",
       " '2.0000',\n",
       " '1.0000',\n",
       " '1.0000',\n",
       " '1.0000',\n",
       " '3.0000',\n",
       " '4.0000',\n",
       " '0.0000',\n",
       " '0.0000',\n",
       " '1.0000',\n",
       " '1.0000',\n",
       " '1.0000',\n",
       " '3.0000']"
      ]
     },
     "execution_count": 113,
     "metadata": {},
     "output_type": "execute_result"
    }
   ],
   "source": [
    "def transform(aListOrArrayOfLists):\n",
    "    finalResults = []\n",
    "    for i in aListOrArrayOfLists:\n",
    "        partialResults = []\n",
    "        for x in i:\n",
    "            partialResults.append(\"{:0.4f}\".format(x))\n",
    "        finalResults.append(partialResults)\n",
    "    return finalResults\n",
    "\n",
    "transform(lists)[0]"
   ]
  },
  {
   "cell_type": "code",
   "execution_count": 121,
   "metadata": {},
   "outputs": [
    {
     "name": "stdout",
     "output_type": "stream",
     "text": [
      "/Users/tremen/Desktop/python_training\r\n",
      "App.ipynb                    pandas_02.ipynb\r\n",
      "README.md                    pandas_numpy_funciones.ipynb\r\n",
      "\u001b[35mdata\u001b[m\u001b[m                         para_patricio.csv\r\n",
      "flask-app.py                 \u001b[35mseaborn-data\u001b[m\u001b[m\r\n",
      "home.html                    table_from_csv.xlsx\r\n",
      "pandas3.ipynb                table_from_html.xlsx\r\n",
      "pandas_01.ipynb\r\n"
     ]
    }
   ],
   "source": [
    "### Let's use functions to expand our data\n",
    "### Data source: http://www.isdscotland.org/Health-Topics/Cancer/Publications/data-tables2017.asp?id=1902#1902 \n",
    "! pwd && ls"
   ]
  },
  {
   "cell_type": "code",
   "execution_count": 119,
   "metadata": {},
   "outputs": [
    {
     "data": {
      "text/plain": [
       "Index(['id', 'hbnew', 'hb_label', 'sitenew', 'site_label', 'sexnew',\n",
       "       'sex_label', 'label', 'age_label', 'trans1.1991', 'trans1.1992',\n",
       "       'trans1.1993', 'trans1.1994', 'trans1.1995', 'trans1.1996',\n",
       "       'trans1.1997', 'trans1.1998', 'trans1.1999', 'trans1.2000',\n",
       "       'trans1.2001', 'trans1.2002', 'trans1.2003', 'trans1.2004',\n",
       "       'trans1.2005', 'trans1.2006', 'trans1.2007', 'trans1.2008',\n",
       "       'trans1.2009', 'trans1.2010', 'trans1.2011', 'trans1.2012',\n",
       "       'trans1.2013', 'trans1.2014', 'trans1.2015'],\n",
       "      dtype='object')"
      ]
     },
     "execution_count": 119,
     "metadata": {},
     "output_type": "execute_result"
    }
   ],
   "source": [
    "data = pd.read_excel('/Users/tremen/Desktop/cancer_all_types.xls', sheet_name=6)\n",
    "data.columns"
   ]
  },
  {
   "cell_type": "code",
   "execution_count": 127,
   "metadata": {},
   "outputs": [
    {
     "data": {
      "text/plain": [
       "array(['All cancer types'], dtype=object)"
      ]
     },
     "execution_count": 127,
     "metadata": {},
     "output_type": "execute_result"
    }
   ],
   "source": [
    "data['site_label'].unique()"
   ]
  },
  {
   "cell_type": "code",
   "execution_count": 128,
   "metadata": {},
   "outputs": [
    {
     "data": {
      "text/plain": [
       "count                 1152\n",
       "unique                   1\n",
       "top       All cancer types\n",
       "freq                  1152\n",
       "Name: site_label, dtype: object"
      ]
     },
     "execution_count": 128,
     "metadata": {},
     "output_type": "execute_result"
    }
   ],
   "source": [
    "data['site_label'].describe()"
   ]
  },
  {
   "cell_type": "code",
   "execution_count": 130,
   "metadata": {},
   "outputs": [],
   "source": [
    "women = data.loc[data['sex_label'] == 'Females']\n",
    "wy2015 = women.loc[:,['age_label','trans1.2015']]"
   ]
  },
  {
   "cell_type": "code",
   "execution_count": 29,
   "metadata": {},
   "outputs": [
    {
     "data": {
      "text/html": [
       "<div>\n",
       "<style>\n",
       "    .dataframe thead tr:only-child th {\n",
       "        text-align: right;\n",
       "    }\n",
       "\n",
       "    .dataframe thead th {\n",
       "        text-align: left;\n",
       "    }\n",
       "\n",
       "    .dataframe tbody tr th {\n",
       "        vertical-align: top;\n",
       "    }\n",
       "</style>\n",
       "<table border=\"1\" class=\"dataframe\">\n",
       "  <thead>\n",
       "    <tr style=\"text-align: right;\">\n",
       "      <th></th>\n",
       "      <th>trans1.2015</th>\n",
       "    </tr>\n",
       "  </thead>\n",
       "  <tbody>\n",
       "    <tr>\n",
       "      <th>count</th>\n",
       "      <td>384.000000</td>\n",
       "    </tr>\n",
       "    <tr>\n",
       "      <th>mean</th>\n",
       "      <td>590.553925</td>\n",
       "    </tr>\n",
       "    <tr>\n",
       "      <th>std</th>\n",
       "      <td>1075.068354</td>\n",
       "    </tr>\n",
       "    <tr>\n",
       "      <th>min</th>\n",
       "      <td>2.000000</td>\n",
       "    </tr>\n",
       "    <tr>\n",
       "      <th>25%</th>\n",
       "      <td>104.529850</td>\n",
       "    </tr>\n",
       "    <tr>\n",
       "      <th>50%</th>\n",
       "      <td>365.500000</td>\n",
       "    </tr>\n",
       "    <tr>\n",
       "      <th>75%</th>\n",
       "      <td>604.129035</td>\n",
       "    </tr>\n",
       "    <tr>\n",
       "      <th>max</th>\n",
       "      <td>16266.000000</td>\n",
       "    </tr>\n",
       "  </tbody>\n",
       "</table>\n",
       "</div>"
      ],
      "text/plain": [
       "        trans1.2015\n",
       "count    384.000000\n",
       "mean     590.553925\n",
       "std     1075.068354\n",
       "min        2.000000\n",
       "25%      104.529850\n",
       "50%      365.500000\n",
       "75%      604.129035\n",
       "max    16266.000000"
      ]
     },
     "execution_count": 29,
     "metadata": {},
     "output_type": "execute_result"
    }
   ],
   "source": [
    "wy2015.describe()"
   ]
  },
  {
   "cell_type": "code",
   "execution_count": 133,
   "metadata": {},
   "outputs": [
    {
     "data": {
      "text/html": [
       "<div>\n",
       "<style scoped>\n",
       "    .dataframe tbody tr th:only-of-type {\n",
       "        vertical-align: middle;\n",
       "    }\n",
       "\n",
       "    .dataframe tbody tr th {\n",
       "        vertical-align: top;\n",
       "    }\n",
       "\n",
       "    .dataframe thead th {\n",
       "        text-align: right;\n",
       "    }\n",
       "</style>\n",
       "<table border=\"1\" class=\"dataframe\">\n",
       "  <thead>\n",
       "    <tr style=\"text-align: right;\">\n",
       "      <th></th>\n",
       "      <th>age_label</th>\n",
       "      <th>trans1.2015</th>\n",
       "      <th>fixed</th>\n",
       "    </tr>\n",
       "  </thead>\n",
       "  <tbody>\n",
       "    <tr>\n",
       "      <th>98</th>\n",
       "      <td>Number of registrations: Under 5</td>\n",
       "      <td>36.0</td>\n",
       "      <td>100</td>\n",
       "    </tr>\n",
       "    <tr>\n",
       "      <th>99</th>\n",
       "      <td>Number of registrations: 5..</td>\n",
       "      <td>14.0</td>\n",
       "      <td>100</td>\n",
       "    </tr>\n",
       "    <tr>\n",
       "      <th>100</th>\n",
       "      <td>Number of registrations: 10-14</td>\n",
       "      <td>10.0</td>\n",
       "      <td>100</td>\n",
       "    </tr>\n",
       "    <tr>\n",
       "      <th>101</th>\n",
       "      <td>Number of registrations: 15-19</td>\n",
       "      <td>35.0</td>\n",
       "      <td>100</td>\n",
       "    </tr>\n",
       "    <tr>\n",
       "      <th>102</th>\n",
       "      <td>Number of registrations: 20-24</td>\n",
       "      <td>64.0</td>\n",
       "      <td>100</td>\n",
       "    </tr>\n",
       "  </tbody>\n",
       "</table>\n",
       "</div>"
      ],
      "text/plain": [
       "                            age_label  trans1.2015  fixed\n",
       "98   Number of registrations: Under 5         36.0    100\n",
       "99       Number of registrations: 5..         14.0    100\n",
       "100    Number of registrations: 10-14         10.0    100\n",
       "101    Number of registrations: 15-19         35.0    100\n",
       "102    Number of registrations: 20-24         64.0    100"
      ]
     },
     "execution_count": 133,
     "metadata": {},
     "output_type": "execute_result"
    }
   ],
   "source": [
    "from random import * # Library to create a random number\n",
    "\n",
    "# Create a new column using min and max using 'trans1.2015' column\n",
    "wy2015['fixed'] = 100 \n",
    "wy2015.head()"
   ]
  },
  {
   "cell_type": "code",
   "execution_count": 134,
   "metadata": {},
   "outputs": [
    {
     "data": {
      "text/html": [
       "<div>\n",
       "<style scoped>\n",
       "    .dataframe tbody tr th:only-of-type {\n",
       "        vertical-align: middle;\n",
       "    }\n",
       "\n",
       "    .dataframe tbody tr th {\n",
       "        vertical-align: top;\n",
       "    }\n",
       "\n",
       "    .dataframe thead th {\n",
       "        text-align: right;\n",
       "    }\n",
       "</style>\n",
       "<table border=\"1\" class=\"dataframe\">\n",
       "  <thead>\n",
       "    <tr style=\"text-align: right;\">\n",
       "      <th></th>\n",
       "      <th>age_label</th>\n",
       "      <th>trans1.2015</th>\n",
       "      <th>fixed</th>\n",
       "      <th>func_inside</th>\n",
       "    </tr>\n",
       "  </thead>\n",
       "  <tbody>\n",
       "    <tr>\n",
       "      <th>98</th>\n",
       "      <td>Number of registrations: Under 5</td>\n",
       "      <td>36.0</td>\n",
       "      <td>100</td>\n",
       "      <td>124.0</td>\n",
       "    </tr>\n",
       "    <tr>\n",
       "      <th>99</th>\n",
       "      <td>Number of registrations: 5..</td>\n",
       "      <td>14.0</td>\n",
       "      <td>100</td>\n",
       "      <td>94.0</td>\n",
       "    </tr>\n",
       "    <tr>\n",
       "      <th>100</th>\n",
       "      <td>Number of registrations: 10-14</td>\n",
       "      <td>10.0</td>\n",
       "      <td>100</td>\n",
       "      <td>66.0</td>\n",
       "    </tr>\n",
       "    <tr>\n",
       "      <th>101</th>\n",
       "      <td>Number of registrations: 15-19</td>\n",
       "      <td>35.0</td>\n",
       "      <td>100</td>\n",
       "      <td>98.0</td>\n",
       "    </tr>\n",
       "    <tr>\n",
       "      <th>102</th>\n",
       "      <td>Number of registrations: 20-24</td>\n",
       "      <td>64.0</td>\n",
       "      <td>100</td>\n",
       "      <td>97.0</td>\n",
       "    </tr>\n",
       "  </tbody>\n",
       "</table>\n",
       "</div>"
      ],
      "text/plain": [
       "                            age_label  trans1.2015  fixed  func_inside\n",
       "98   Number of registrations: Under 5         36.0    100        124.0\n",
       "99       Number of registrations: 5..         14.0    100         94.0\n",
       "100    Number of registrations: 10-14         10.0    100         66.0\n",
       "101    Number of registrations: 15-19         35.0    100         98.0\n",
       "102    Number of registrations: 20-24         64.0    100         97.0"
      ]
     },
     "execution_count": 134,
     "metadata": {},
     "output_type": "execute_result"
    }
   ],
   "source": [
    "wy2015['func_inside'] = wy2015['trans1.2015'].apply(lambda row: row + randint(wy2015['trans1.2015'].min(),100))\n",
    "wy2015.head()"
   ]
  },
  {
   "cell_type": "code",
   "execution_count": 32,
   "metadata": {},
   "outputs": [
    {
     "data": {
      "text/html": [
       "<div>\n",
       "<style>\n",
       "    .dataframe thead tr:only-child th {\n",
       "        text-align: right;\n",
       "    }\n",
       "\n",
       "    .dataframe thead th {\n",
       "        text-align: left;\n",
       "    }\n",
       "\n",
       "    .dataframe tbody tr th {\n",
       "        vertical-align: top;\n",
       "    }\n",
       "</style>\n",
       "<table border=\"1\" class=\"dataframe\">\n",
       "  <thead>\n",
       "    <tr style=\"text-align: right;\">\n",
       "      <th></th>\n",
       "      <th>age_label</th>\n",
       "      <th>trans1.2015</th>\n",
       "      <th>fixed</th>\n",
       "      <th>func_inside</th>\n",
       "      <th>funcOutVar</th>\n",
       "    </tr>\n",
       "  </thead>\n",
       "  <tbody>\n",
       "    <tr>\n",
       "      <th>98</th>\n",
       "      <td>Number of registrations: Under 5</td>\n",
       "      <td>36.0</td>\n",
       "      <td>100</td>\n",
       "      <td>65.0</td>\n",
       "      <td>4880.0</td>\n",
       "    </tr>\n",
       "    <tr>\n",
       "      <th>99</th>\n",
       "      <td>Number of registrations: 5..</td>\n",
       "      <td>14.0</td>\n",
       "      <td>100</td>\n",
       "      <td>58.0</td>\n",
       "      <td>6011.0</td>\n",
       "    </tr>\n",
       "    <tr>\n",
       "      <th>100</th>\n",
       "      <td>Number of registrations: 10-14</td>\n",
       "      <td>10.0</td>\n",
       "      <td>100</td>\n",
       "      <td>94.0</td>\n",
       "      <td>12684.0</td>\n",
       "    </tr>\n",
       "    <tr>\n",
       "      <th>101</th>\n",
       "      <td>Number of registrations: 15-19</td>\n",
       "      <td>35.0</td>\n",
       "      <td>100</td>\n",
       "      <td>96.0</td>\n",
       "      <td>10310.0</td>\n",
       "    </tr>\n",
       "    <tr>\n",
       "      <th>102</th>\n",
       "      <td>Number of registrations: 20-24</td>\n",
       "      <td>64.0</td>\n",
       "      <td>100</td>\n",
       "      <td>86.0</td>\n",
       "      <td>8513.0</td>\n",
       "    </tr>\n",
       "  </tbody>\n",
       "</table>\n",
       "</div>"
      ],
      "text/plain": [
       "                            age_label  trans1.2015  fixed  func_inside  \\\n",
       "98   Number of registrations: Under 5         36.0    100         65.0   \n",
       "99       Number of registrations: 5..         14.0    100         58.0   \n",
       "100    Number of registrations: 10-14         10.0    100         94.0   \n",
       "101    Number of registrations: 15-19         35.0    100         96.0   \n",
       "102    Number of registrations: 20-24         64.0    100         86.0   \n",
       "\n",
       "     funcOutVar  \n",
       "98       4880.0  \n",
       "99       6011.0  \n",
       "100     12684.0  \n",
       "101     10310.0  \n",
       "102      8513.0  "
      ]
     },
     "execution_count": 32,
     "metadata": {},
     "output_type": "execute_result"
    }
   ],
   "source": [
    "functionOutside = lambda row: row + randint(wy2015['trans1.2015'].min(),wy2015['trans1.2015'].max())\n",
    "\n",
    "wy2015['funcOutVar'] = wy2015['trans1.2015'].apply(functionOutside)\n",
    "wy2015.head()"
   ]
  },
  {
   "cell_type": "code",
   "execution_count": 135,
   "metadata": {},
   "outputs": [
    {
     "data": {
      "text/html": [
       "<div>\n",
       "<style scoped>\n",
       "    .dataframe tbody tr th:only-of-type {\n",
       "        vertical-align: middle;\n",
       "    }\n",
       "\n",
       "    .dataframe tbody tr th {\n",
       "        vertical-align: top;\n",
       "    }\n",
       "\n",
       "    .dataframe thead th {\n",
       "        text-align: right;\n",
       "    }\n",
       "</style>\n",
       "<table border=\"1\" class=\"dataframe\">\n",
       "  <thead>\n",
       "    <tr style=\"text-align: right;\">\n",
       "      <th></th>\n",
       "      <th>age_label</th>\n",
       "      <th>trans1.2015</th>\n",
       "      <th>fixed</th>\n",
       "      <th>func_inside</th>\n",
       "      <th>funcOut</th>\n",
       "    </tr>\n",
       "  </thead>\n",
       "  <tbody>\n",
       "    <tr>\n",
       "      <th>98</th>\n",
       "      <td>Number of registrations: Under 5</td>\n",
       "      <td>36.0</td>\n",
       "      <td>100</td>\n",
       "      <td>124.0</td>\n",
       "      <td>6.000000</td>\n",
       "    </tr>\n",
       "    <tr>\n",
       "      <th>99</th>\n",
       "      <td>Number of registrations: 5..</td>\n",
       "      <td>14.0</td>\n",
       "      <td>100</td>\n",
       "      <td>94.0</td>\n",
       "      <td>3.741657</td>\n",
       "    </tr>\n",
       "    <tr>\n",
       "      <th>100</th>\n",
       "      <td>Number of registrations: 10-14</td>\n",
       "      <td>10.0</td>\n",
       "      <td>100</td>\n",
       "      <td>66.0</td>\n",
       "      <td>3.162278</td>\n",
       "    </tr>\n",
       "    <tr>\n",
       "      <th>101</th>\n",
       "      <td>Number of registrations: 15-19</td>\n",
       "      <td>35.0</td>\n",
       "      <td>100</td>\n",
       "      <td>98.0</td>\n",
       "      <td>5.916080</td>\n",
       "    </tr>\n",
       "    <tr>\n",
       "      <th>102</th>\n",
       "      <td>Number of registrations: 20-24</td>\n",
       "      <td>64.0</td>\n",
       "      <td>100</td>\n",
       "      <td>97.0</td>\n",
       "      <td>8.000000</td>\n",
       "    </tr>\n",
       "  </tbody>\n",
       "</table>\n",
       "</div>"
      ],
      "text/plain": [
       "                            age_label  trans1.2015  fixed  func_inside  \\\n",
       "98   Number of registrations: Under 5         36.0    100        124.0   \n",
       "99       Number of registrations: 5..         14.0    100         94.0   \n",
       "100    Number of registrations: 10-14         10.0    100         66.0   \n",
       "101    Number of registrations: 15-19         35.0    100         98.0   \n",
       "102    Number of registrations: 20-24         64.0    100         97.0   \n",
       "\n",
       "      funcOut  \n",
       "98   6.000000  \n",
       "99   3.741657  \n",
       "100  3.162278  \n",
       "101  5.916080  \n",
       "102  8.000000  "
      ]
     },
     "execution_count": 135,
     "metadata": {},
     "output_type": "execute_result"
    }
   ],
   "source": [
    "def expandingData(row):\n",
    "    return np.sqrt(row['trans1.2015'])\n",
    "\n",
    "wy2015['funcOut'] = wy2015.apply(lambda row: expandingData(row), axis=1)\n",
    "wy2015.head()"
   ]
  },
  {
   "cell_type": "code",
   "execution_count": 34,
   "metadata": {},
   "outputs": [
    {
     "data": {
      "text/html": [
       "<div>\n",
       "<style>\n",
       "    .dataframe thead tr:only-child th {\n",
       "        text-align: right;\n",
       "    }\n",
       "\n",
       "    .dataframe thead th {\n",
       "        text-align: left;\n",
       "    }\n",
       "\n",
       "    .dataframe tbody tr th {\n",
       "        vertical-align: top;\n",
       "    }\n",
       "</style>\n",
       "<table border=\"1\" class=\"dataframe\">\n",
       "  <thead>\n",
       "    <tr style=\"text-align: right;\">\n",
       "      <th></th>\n",
       "      <th>age_label</th>\n",
       "      <th>trans1.2015</th>\n",
       "      <th>fixed</th>\n",
       "      <th>func_inside</th>\n",
       "      <th>funcOutVar</th>\n",
       "      <th>funcOut</th>\n",
       "    </tr>\n",
       "  </thead>\n",
       "  <tbody>\n",
       "    <tr>\n",
       "      <th>98</th>\n",
       "      <td>Under 5</td>\n",
       "      <td>36.0</td>\n",
       "      <td>100</td>\n",
       "      <td>65.0</td>\n",
       "      <td>4880.0</td>\n",
       "      <td>6.000000</td>\n",
       "    </tr>\n",
       "    <tr>\n",
       "      <th>99</th>\n",
       "      <td>5..</td>\n",
       "      <td>14.0</td>\n",
       "      <td>100</td>\n",
       "      <td>58.0</td>\n",
       "      <td>6011.0</td>\n",
       "      <td>3.741657</td>\n",
       "    </tr>\n",
       "    <tr>\n",
       "      <th>100</th>\n",
       "      <td>10-14</td>\n",
       "      <td>10.0</td>\n",
       "      <td>100</td>\n",
       "      <td>94.0</td>\n",
       "      <td>12684.0</td>\n",
       "      <td>3.162278</td>\n",
       "    </tr>\n",
       "    <tr>\n",
       "      <th>101</th>\n",
       "      <td>15-19</td>\n",
       "      <td>35.0</td>\n",
       "      <td>100</td>\n",
       "      <td>96.0</td>\n",
       "      <td>10310.0</td>\n",
       "      <td>5.916080</td>\n",
       "    </tr>\n",
       "    <tr>\n",
       "      <th>102</th>\n",
       "      <td>20-24</td>\n",
       "      <td>64.0</td>\n",
       "      <td>100</td>\n",
       "      <td>86.0</td>\n",
       "      <td>8513.0</td>\n",
       "      <td>8.000000</td>\n",
       "    </tr>\n",
       "  </tbody>\n",
       "</table>\n",
       "</div>"
      ],
      "text/plain": [
       "    age_label  trans1.2015  fixed  func_inside  funcOutVar   funcOut\n",
       "98    Under 5         36.0    100         65.0      4880.0  6.000000\n",
       "99        5..         14.0    100         58.0      6011.0  3.741657\n",
       "100     10-14         10.0    100         94.0     12684.0  3.162278\n",
       "101     15-19         35.0    100         96.0     10310.0  5.916080\n",
       "102     20-24         64.0    100         86.0      8513.0  8.000000"
      ]
     },
     "execution_count": 34,
     "metadata": {},
     "output_type": "execute_result"
    }
   ],
   "source": [
    "strings = lambda row: row.split(\":\")[-1].strip()\n",
    "\n",
    "wy2015['age_label'] = wy2015['age_label'].map(strings)\n",
    "wy2015.head()"
   ]
  },
  {
   "cell_type": "code",
   "execution_count": 35,
   "metadata": {},
   "outputs": [
    {
     "data": {
      "text/html": [
       "<div>\n",
       "<style>\n",
       "    .dataframe thead tr:only-child th {\n",
       "        text-align: right;\n",
       "    }\n",
       "\n",
       "    .dataframe thead th {\n",
       "        text-align: left;\n",
       "    }\n",
       "\n",
       "    .dataframe tbody tr th {\n",
       "        vertical-align: top;\n",
       "    }\n",
       "</style>\n",
       "<table border=\"1\" class=\"dataframe\">\n",
       "  <thead>\n",
       "    <tr style=\"text-align: right;\">\n",
       "      <th></th>\n",
       "      <th>age_label</th>\n",
       "      <th>trans1.2015</th>\n",
       "      <th>fixed</th>\n",
       "      <th>func_inside</th>\n",
       "      <th>funcOutVar</th>\n",
       "      <th>funcOut</th>\n",
       "    </tr>\n",
       "  </thead>\n",
       "  <tbody>\n",
       "    <tr>\n",
       "      <th>101</th>\n",
       "      <td>15-19</td>\n",
       "      <td>35.000000</td>\n",
       "      <td>100</td>\n",
       "      <td>96.000000</td>\n",
       "      <td>10310.000000</td>\n",
       "      <td>5.916080</td>\n",
       "    </tr>\n",
       "    <tr>\n",
       "      <th>121</th>\n",
       "      <td>15-19</td>\n",
       "      <td>23.614185</td>\n",
       "      <td>100</td>\n",
       "      <td>122.614185</td>\n",
       "      <td>4480.614185</td>\n",
       "      <td>4.859443</td>\n",
       "    </tr>\n",
       "    <tr>\n",
       "      <th>252</th>\n",
       "      <td>15-19</td>\n",
       "      <td>5.000000</td>\n",
       "      <td>100</td>\n",
       "      <td>46.000000</td>\n",
       "      <td>14334.000000</td>\n",
       "      <td>2.236068</td>\n",
       "    </tr>\n",
       "    <tr>\n",
       "      <th>272</th>\n",
       "      <td>15-19</td>\n",
       "      <td>13.241175</td>\n",
       "      <td>100</td>\n",
       "      <td>101.241175</td>\n",
       "      <td>6163.241175</td>\n",
       "      <td>3.638843</td>\n",
       "    </tr>\n",
       "    <tr>\n",
       "      <th>405</th>\n",
       "      <td>15-19</td>\n",
       "      <td>9.000000</td>\n",
       "      <td>100</td>\n",
       "      <td>78.000000</td>\n",
       "      <td>9553.000000</td>\n",
       "      <td>3.000000</td>\n",
       "    </tr>\n",
       "    <tr>\n",
       "      <th>425</th>\n",
       "      <td>15-19</td>\n",
       "      <td>22.088058</td>\n",
       "      <td>100</td>\n",
       "      <td>121.088058</td>\n",
       "      <td>10898.088058</td>\n",
       "      <td>4.699793</td>\n",
       "    </tr>\n",
       "    <tr>\n",
       "      <th>558</th>\n",
       "      <td>15-19</td>\n",
       "      <td>21.000000</td>\n",
       "      <td>100</td>\n",
       "      <td>107.000000</td>\n",
       "      <td>14900.000000</td>\n",
       "      <td>4.582576</td>\n",
       "    </tr>\n",
       "    <tr>\n",
       "      <th>578</th>\n",
       "      <td>15-19</td>\n",
       "      <td>30.125235</td>\n",
       "      <td>100</td>\n",
       "      <td>108.125235</td>\n",
       "      <td>5889.125235</td>\n",
       "      <td>5.488646</td>\n",
       "    </tr>\n",
       "  </tbody>\n",
       "</table>\n",
       "</div>"
      ],
      "text/plain": [
       "    age_label  trans1.2015  fixed  func_inside    funcOutVar   funcOut\n",
       "101     15-19    35.000000    100    96.000000  10310.000000  5.916080\n",
       "121     15-19    23.614185    100   122.614185   4480.614185  4.859443\n",
       "252     15-19     5.000000    100    46.000000  14334.000000  2.236068\n",
       "272     15-19    13.241175    100   101.241175   6163.241175  3.638843\n",
       "405     15-19     9.000000    100    78.000000   9553.000000  3.000000\n",
       "425     15-19    22.088058    100   121.088058  10898.088058  4.699793\n",
       "558     15-19    21.000000    100   107.000000  14900.000000  4.582576\n",
       "578     15-19    30.125235    100   108.125235   5889.125235  5.488646"
      ]
     },
     "execution_count": 35,
     "metadata": {},
     "output_type": "execute_result"
    }
   ],
   "source": [
    "result = wy2015.loc[wy2015['age_label'] == '15-19']\n",
    "result"
   ]
  },
  {
   "cell_type": "markdown",
   "metadata": {},
   "source": [
    "## Test "
   ]
  },
  {
   "cell_type": "code",
   "execution_count": 36,
   "metadata": {},
   "outputs": [],
   "source": [
    "# Parse HTML data from Wikipedia with numerical data\n",
    "# Loc cases choosing values more than the mean of a Series\n",
    "# Expand that dataset creating a new column based on a previous column. Use Lambda function (Map type)\n",
    "# Export your results to a CSV"
   ]
  },
  {
   "cell_type": "markdown",
   "metadata": {},
   "source": [
    "Project plannning!!!"
   ]
  }
 ],
 "metadata": {
  "kernelspec": {
   "display_name": "Python 3",
   "language": "python",
   "name": "python3"
  },
  "language_info": {
   "codemirror_mode": {
    "name": "ipython",
    "version": 3
   },
   "file_extension": ".py",
   "mimetype": "text/x-python",
   "name": "python",
   "nbconvert_exporter": "python",
   "pygments_lexer": "ipython3",
   "version": "3.6.5"
  }
 },
 "nbformat": 4,
 "nbformat_minor": 2
}
