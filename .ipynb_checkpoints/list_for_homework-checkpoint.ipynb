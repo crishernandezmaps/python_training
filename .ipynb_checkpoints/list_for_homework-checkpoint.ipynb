{
 "cells": [
  {
   "cell_type": "code",
   "execution_count": 18,
   "metadata": {},
   "outputs": [],
   "source": [
    "lista_nombres = [\"Carlos \", \"Alberto \", \"Rodrigo \", \"Claudio \", \"Nicolas \"]"
   ]
  },
  {
   "cell_type": "code",
   "execution_count": 7,
   "metadata": {},
   "outputs": [
    {
     "data": {
      "text/plain": [
       "['Carlos', 'Alberto', 'Rodrigo', 'Claudio', 'Nicolas']"
      ]
     },
     "execution_count": 7,
     "metadata": {},
     "output_type": "execute_result"
    }
   ],
   "source": [
    "lista_nombres"
   ]
  },
  {
   "cell_type": "code",
   "execution_count": 8,
   "metadata": {},
   "outputs": [],
   "source": [
    "lista_apellidos = [\"Gonzalez\", \"Orellana\", \"Valdes\", \"Maldonado\",\"Rojas\"]"
   ]
  },
  {
   "cell_type": "code",
   "execution_count": 19,
   "metadata": {
    "scrolled": false
   },
   "outputs": [
    {
     "name": "stdout",
     "output_type": "stream",
     "text": [
      "Carlos  Gonzalez\n",
      "Alberto  Orellana\n",
      "Rodrigo  Valdes\n",
      "Claudio  Maldonado\n",
      "Nicolas  Rojas\n"
     ]
    }
   ],
   "source": [
    "for i, x in zip(lista_nombres, lista_apellidos):\n",
    "    print(i,x)\n",
    "    \n",
    "    "
   ]
  },
  {
   "cell_type": "code",
   "execution_count": 22,
   "metadata": {},
   "outputs": [
    {
     "name": "stdout",
     "output_type": "stream",
     "text": [
      "['Carlos Gonzalez']\n",
      "['Alberto Orellana']\n",
      "['Rodrigo Valdes']\n",
      "['Claudio Maldonado']\n",
      "['Nicolas Rojas']\n"
     ]
    }
   ],
   "source": [
    "for i, x in zip(lista_nombres, lista_apellidos):\n",
    "    newlist = [i + x]\n",
    "    print(newlist)"
   ]
  },
  {
   "cell_type": "code",
   "execution_count": 20,
   "metadata": {},
   "outputs": [
    {
     "name": "stdout",
     "output_type": "stream",
     "text": [
      "John York\n",
      "Edward York\n",
      "Tom York\n"
     ]
    }
   ],
   "source": [
    "#Solucion Cris\n",
    "import random\n",
    "Lista_de_nombres = ['John','Edward','Tom']\n",
    "Lista_de_Apellidos = ['Snow','Baratheon','York']\n",
    "for i in Lista_de_nombres:\n",
    "   print(i + ' ' + random.choice(Lista_de_Apellidos))"
   ]
  }
 ],
 "metadata": {
  "kernelspec": {
   "display_name": "Python 3",
   "language": "python",
   "name": "python3"
  },
  "language_info": {
   "codemirror_mode": {
    "name": "ipython",
    "version": 3
   },
   "file_extension": ".py",
   "mimetype": "text/x-python",
   "name": "python",
   "nbconvert_exporter": "python",
   "pygments_lexer": "ipython3",
   "version": "3.7.3"
  }
 },
 "nbformat": 4,
 "nbformat_minor": 2
}
