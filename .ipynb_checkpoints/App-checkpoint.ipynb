{
 "cells": [
  {
   "cell_type": "code",
   "execution_count": 1,
   "metadata": {},
   "outputs": [],
   "source": [
    "import pandas as pd\n",
    "import numpy as np\n",
    "import math"
   ]
  },
  {
   "cell_type": "code",
   "execution_count": 2,
   "metadata": {},
   "outputs": [
    {
     "name": "stdout",
     "output_type": "stream",
     "text": [
      "cancer_all_types.xls                    result.csv\r\n",
      "cervical-cancer-risk-classification.zip \u001b[35mrisk_factors_cervical_cancer.csv\u001b[m\u001b[m\r\n",
      "data.xlsx                               tobacco.csv\r\n",
      "dataStore.xlsx                          world.sql\r\n",
      "file.txt\r\n"
     ]
    }
   ],
   "source": [
    "!cd data && ls"
   ]
  },
  {
   "cell_type": "code",
   "execution_count": 3,
   "metadata": {},
   "outputs": [],
   "source": [
    "dataA = pd.read_excel('data/data.xlsx', sheetname=0)\n",
    "dataB = pd.read_excel('data/data.xlsx', sheetname=1)"
   ]
  },
  {
   "cell_type": "code",
   "execution_count": 4,
   "metadata": {},
   "outputs": [
    {
     "data": {
      "text/plain": [
       "(     ID  Col1  Col2  Col3  Col4  Col5  Col6  Col7\n",
       " 0  A001   1.4   2.4   NaN   NaN   NaN   NaN   NaN\n",
       " 1  A002   2.3   2.3   4.3   NaN   NaN   NaN   NaN\n",
       " 2  A003   5.7   2.8   1.2   5.2   NaN   NaN   NaN\n",
       " 3  A004   7.1   2.2   NaN   NaN   NaN   NaN   NaN\n",
       " 4  A005   3.2   4.3   4.2   5.5   7.4   NaN   NaN,\n",
       "      ID  Col1  Col2  Col3  Col4  Col5  Col6  Col7\n",
       " 0  A001   1.1   2.4   NaN   NaN   NaN   NaN   NaN\n",
       " 1  A002   2.4   2.3   4.3   NaN   NaN   NaN   NaN\n",
       " 2  A003   5.7   2.6   1.2   NaN   NaN   NaN   NaN\n",
       " 3  A004   7.1   2.2   NaN   NaN   NaN   NaN   NaN\n",
       " 4  A005   3.2   4.3   4.2   6.1   7.3   NaN   NaN)"
      ]
     },
     "execution_count": 4,
     "metadata": {},
     "output_type": "execute_result"
    }
   ],
   "source": [
    "dataA,dataB"
   ]
  },
  {
   "cell_type": "code",
   "execution_count": 22,
   "metadata": {},
   "outputs": [
    {
     "data": {
      "text/html": [
       "<div>\n",
       "<style>\n",
       "    .dataframe thead tr:only-child th {\n",
       "        text-align: right;\n",
       "    }\n",
       "\n",
       "    .dataframe thead th {\n",
       "        text-align: left;\n",
       "    }\n",
       "\n",
       "    .dataframe tbody tr th {\n",
       "        vertical-align: top;\n",
       "    }\n",
       "</style>\n",
       "<table border=\"1\" class=\"dataframe\">\n",
       "  <thead>\n",
       "    <tr style=\"text-align: right;\">\n",
       "      <th></th>\n",
       "      <th>Col1_x</th>\n",
       "      <th>Col2_x</th>\n",
       "      <th>Col3_x</th>\n",
       "      <th>Col4_x</th>\n",
       "      <th>Col5_x</th>\n",
       "      <th>Col6_x</th>\n",
       "      <th>Col7_x</th>\n",
       "      <th>Col1_y</th>\n",
       "      <th>Col2_y</th>\n",
       "      <th>Col3_y</th>\n",
       "      <th>Col4_y</th>\n",
       "      <th>Col5_y</th>\n",
       "      <th>Col6_y</th>\n",
       "      <th>Col7_y</th>\n",
       "      <th>%</th>\n",
       "    </tr>\n",
       "    <tr>\n",
       "      <th>ID</th>\n",
       "      <th></th>\n",
       "      <th></th>\n",
       "      <th></th>\n",
       "      <th></th>\n",
       "      <th></th>\n",
       "      <th></th>\n",
       "      <th></th>\n",
       "      <th></th>\n",
       "      <th></th>\n",
       "      <th></th>\n",
       "      <th></th>\n",
       "      <th></th>\n",
       "      <th></th>\n",
       "      <th></th>\n",
       "      <th></th>\n",
       "    </tr>\n",
       "  </thead>\n",
       "  <tbody>\n",
       "    <tr>\n",
       "      <th>A001</th>\n",
       "      <td>1.4</td>\n",
       "      <td>2.4</td>\n",
       "      <td>NaN</td>\n",
       "      <td>NaN</td>\n",
       "      <td>NaN</td>\n",
       "      <td>NaN</td>\n",
       "      <td>NaN</td>\n",
       "      <td>1.1</td>\n",
       "      <td>2.4</td>\n",
       "      <td>NaN</td>\n",
       "      <td>NaN</td>\n",
       "      <td>NaN</td>\n",
       "      <td>NaN</td>\n",
       "      <td>NaN</td>\n",
       "      <td>0.500</td>\n",
       "    </tr>\n",
       "    <tr>\n",
       "      <th>A002</th>\n",
       "      <td>2.3</td>\n",
       "      <td>2.3</td>\n",
       "      <td>4.3</td>\n",
       "      <td>NaN</td>\n",
       "      <td>NaN</td>\n",
       "      <td>NaN</td>\n",
       "      <td>NaN</td>\n",
       "      <td>2.4</td>\n",
       "      <td>2.3</td>\n",
       "      <td>4.3</td>\n",
       "      <td>NaN</td>\n",
       "      <td>NaN</td>\n",
       "      <td>NaN</td>\n",
       "      <td>NaN</td>\n",
       "      <td>0.667</td>\n",
       "    </tr>\n",
       "    <tr>\n",
       "      <th>A003</th>\n",
       "      <td>5.7</td>\n",
       "      <td>2.8</td>\n",
       "      <td>1.2</td>\n",
       "      <td>5.2</td>\n",
       "      <td>NaN</td>\n",
       "      <td>NaN</td>\n",
       "      <td>NaN</td>\n",
       "      <td>5.7</td>\n",
       "      <td>2.6</td>\n",
       "      <td>1.2</td>\n",
       "      <td>NaN</td>\n",
       "      <td>NaN</td>\n",
       "      <td>NaN</td>\n",
       "      <td>NaN</td>\n",
       "      <td>0.571</td>\n",
       "    </tr>\n",
       "    <tr>\n",
       "      <th>A004</th>\n",
       "      <td>7.1</td>\n",
       "      <td>2.2</td>\n",
       "      <td>NaN</td>\n",
       "      <td>NaN</td>\n",
       "      <td>NaN</td>\n",
       "      <td>NaN</td>\n",
       "      <td>NaN</td>\n",
       "      <td>7.1</td>\n",
       "      <td>2.2</td>\n",
       "      <td>NaN</td>\n",
       "      <td>NaN</td>\n",
       "      <td>NaN</td>\n",
       "      <td>NaN</td>\n",
       "      <td>NaN</td>\n",
       "      <td>1.000</td>\n",
       "    </tr>\n",
       "    <tr>\n",
       "      <th>A005</th>\n",
       "      <td>3.2</td>\n",
       "      <td>4.3</td>\n",
       "      <td>4.2</td>\n",
       "      <td>5.5</td>\n",
       "      <td>7.4</td>\n",
       "      <td>NaN</td>\n",
       "      <td>NaN</td>\n",
       "      <td>3.2</td>\n",
       "      <td>4.3</td>\n",
       "      <td>4.2</td>\n",
       "      <td>6.1</td>\n",
       "      <td>7.3</td>\n",
       "      <td>NaN</td>\n",
       "      <td>NaN</td>\n",
       "      <td>0.600</td>\n",
       "    </tr>\n",
       "  </tbody>\n",
       "</table>\n",
       "</div>"
      ],
      "text/plain": [
       "      Col1_x  Col2_x  Col3_x  Col4_x  Col5_x  Col6_x  Col7_x  Col1_y  Col2_y  \\\n",
       "ID                                                                             \n",
       "A001     1.4     2.4     NaN     NaN     NaN     NaN     NaN     1.1     2.4   \n",
       "A002     2.3     2.3     4.3     NaN     NaN     NaN     NaN     2.4     2.3   \n",
       "A003     5.7     2.8     1.2     5.2     NaN     NaN     NaN     5.7     2.6   \n",
       "A004     7.1     2.2     NaN     NaN     NaN     NaN     NaN     7.1     2.2   \n",
       "A005     3.2     4.3     4.2     5.5     7.4     NaN     NaN     3.2     4.3   \n",
       "\n",
       "      Col3_y  Col4_y  Col5_y  Col6_y  Col7_y      %  \n",
       "ID                                                   \n",
       "A001     NaN     NaN     NaN     NaN     NaN  0.500  \n",
       "A002     4.3     NaN     NaN     NaN     NaN  0.667  \n",
       "A003     1.2     NaN     NaN     NaN     NaN  0.571  \n",
       "A004     NaN     NaN     NaN     NaN     NaN  1.000  \n",
       "A005     4.2     6.1     7.3     NaN     NaN  0.600  "
      ]
     },
     "execution_count": 22,
     "metadata": {},
     "output_type": "execute_result"
    }
   ],
   "source": [
    "# Function taking two dataframes as arguments\n",
    "def compare(dfA,dfB):\n",
    "    # Using loc will select just the columns with data\n",
    "    dataA = dfA.loc[:,['Col1','Col2','Col3','Col4','Col5','Col6','Col7']] # Could be different columns!!!\n",
    "    dataB = dfB.loc[:,['Col1','Col2','Col3','Col4','Col5','Col6','Col7']]\n",
    "    \n",
    "    # Iterating trough both dataframes\n",
    "\n",
    "    # Empty list to save partial results\n",
    "    results = []\n",
    "    \n",
    "    for i in range(0,dataB.shape[0]): \n",
    "        # Transforming each row to a List  \n",
    "        a = dataA.iloc[i].values\n",
    "        b = dataB.iloc[i].values\n",
    "        \n",
    "        # Removing nan from lists\n",
    "        aCheck = [value for value in a if not math.isnan(value)]\n",
    "        bCheck = [value for value in b if not math.isnan(value)]\n",
    "        \n",
    "        # Reducing decimals to Two\n",
    "        def rounding(list):\n",
    "            newList = []\n",
    "            for x in list:\n",
    "                newList.append(float(\"{0:.1f}\".format(x)))    \n",
    "            return newList\n",
    "        \n",
    "        y = len(set(rounding(aCheck)).intersection(rounding(bCheck)))\n",
    "        w = len(rounding(aCheck)) + len(rounding(bCheck))\n",
    "                                              \n",
    "        result = (y*2)/w ### Improve formula !!!!\n",
    "        \n",
    "        results.append(float(\"{0:.3f}\".format(result)))\n",
    "    \n",
    "    # Creating a Series from a list\n",
    "    r = pd.Series(results)\n",
    "    \n",
    "    # Merging original dataframes\n",
    "    merging = pd.merge(dfA, dfB, on='ID')\n",
    "    \n",
    "    # Concatenating original Dataframes with our new Series\n",
    "    conc = pd.concat([merging, r], axis=1)\n",
    "    \n",
    "    # Changing column name to %, setting index on ID, and saving to CSV\n",
    "    conc.rename(columns={0: '%'}, inplace=True)\n",
    "    conc.set_index('ID',inplace=True)\n",
    "    conc.to_csv('data/result.csv',sep=',')\n",
    "    \n",
    "    # Finally returning our original dataframes concatenated with the new column\n",
    "    return conc\n",
    "        \n",
    "\n",
    "# calling the function using our two dataframes\n",
    "# it will print the percentaje for each row\n",
    "compare(dataA,dataB)"
   ]
  },
  {
   "cell_type": "code",
   "execution_count": 28,
   "metadata": {},
   "outputs": [
    {
     "data": {
      "image/png": "[encoded data removed]",
      "text/plain": [
       "<matplotlib.figure.Figure at 0x115c2df98>"
      ]
     },
     "metadata": {},
     "output_type": "display_data"
    }
   ],
   "source": [
    "import matplotlib.pyplot as plt\n",
    "%matplotlib inline\n",
    "import seaborn as sns\n",
    "\n",
    "histo = sns.distplot(compare(dataA,dataB)['%'], bins=5, hist=False)"
   ]
  },
  {
   "cell_type": "code",
   "execution_count": 6,
   "metadata": {},
   "outputs": [
    {
     "name": "stdout",
     "output_type": "stream",
     "text": [
      "cancer_all_types.xls                    result.csv\r\n",
      "cervical-cancer-risk-classification.zip \u001b[35mrisk_factors_cervical_cancer.csv\u001b[m\u001b[m\r\n",
      "data.xlsx                               tobacco.csv\r\n",
      "dataStore.xlsx                          world.sql\r\n",
      "file.txt\r\n"
     ]
    }
   ],
   "source": [
    "! cd data && ls"
   ]
  },
  {
   "cell_type": "code",
   "execution_count": 7,
   "metadata": {},
   "outputs": [
    {
     "data": {
      "text/plain": [
       "0    0.500\n",
       "1    0.667\n",
       "2    0.500\n",
       "3    1.000\n",
       "4    0.571\n",
       "Name: %, dtype: float64"
      ]
     },
     "execution_count": 7,
     "metadata": {},
     "output_type": "execute_result"
    }
   ],
   "source": [
    "final = pd.read_csv('data/result.csv', sep=',')\n",
    "final['%']"
   ]
  }
 ],
 "metadata": {
  "kernelspec": {
   "display_name": "Python 3",
   "language": "python",
   "name": "python3"
  },
  "language_info": {
   "codemirror_mode": {
    "name": "ipython",
    "version": 3
   },
   "file_extension": ".py",
   "mimetype": "text/x-python",
   "name": "python",
   "nbconvert_exporter": "python",
   "pygments_lexer": "ipython3",
   "version": "3.6.2"
  }
 },
 "nbformat": 4,
 "nbformat_minor": 2
}
