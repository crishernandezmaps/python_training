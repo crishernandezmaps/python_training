{
 "cells": [
  {
   "cell_type": "code",
   "execution_count": 58,
   "metadata": {},
   "outputs": [],
   "source": [
    "import pandas as pd\n",
    "import numpy as np\n",
    "import math"
   ]
  },
  {
   "cell_type": "code",
   "execution_count": 24,
   "metadata": {},
   "outputs": [
    {
     "name": "stdout",
     "output_type": "stream",
     "text": [
      "cancer_all_types.xls                    file.txt\r\n",
      "cervical-cancer-risk-classification.zip \u001b[35mrisk_factors_cervical_cancer.csv\u001b[m\u001b[m\r\n",
      "data.xlsx                               tobacco.csv\r\n",
      "dataStore.xlsx                          world.sql\r\n"
     ]
    }
   ],
   "source": [
    "!cd data && ls"
   ]
  },
  {
   "cell_type": "code",
   "execution_count": 108,
   "metadata": {},
   "outputs": [],
   "source": [
    "dataA = pd.read_excel('data/data.xlsx', sheetname=0)\n",
    "dataB = pd.read_excel('data/data.xlsx', sheetname=1)"
   ]
  },
  {
   "cell_type": "code",
   "execution_count": 109,
   "metadata": {},
   "outputs": [
    {
     "data": {
      "text/plain": [
       "(     ID  Row1  Row2  Row3  Row4  Row5  Row6  Row7\n",
       " 0  A001   1.4   2.4   NaN   NaN   NaN   NaN   NaN\n",
       " 1  A002   2.3   2.3   4.3   NaN   NaN   NaN   NaN\n",
       " 2  A003   5.7   2.8   1.2   5.2   NaN   NaN   NaN\n",
       " 3  A004   7.1   2.2   NaN   NaN   NaN   NaN   NaN\n",
       " 4  A005   3.2   4.3   4.2   6.1   7.4   3.2   6.2,\n",
       "      ID  Row1  Row2  Row3  Row4  Row5  Row6  Row7\n",
       " 0  A001   1.1   2.4   NaN   NaN   NaN   NaN   NaN\n",
       " 1  A002   2.4   2.3   4.3   NaN   NaN   NaN   NaN\n",
       " 2  A003   5.7   2.6   1.2   5.1   NaN   NaN   NaN\n",
       " 3  A004   7.1   2.2   NaN   NaN   NaN   NaN   NaN\n",
       " 4  A005   3.2   4.3   4.2   6.1   7.3   3.2   6.1)"
      ]
     },
     "execution_count": 109,
     "metadata": {},
     "output_type": "execute_result"
    }
   ],
   "source": [
    "dataA,dataB"
   ]
  },
  {
   "cell_type": "code",
   "execution_count": 114,
   "metadata": {},
   "outputs": [
    {
     "data": {
      "text/html": [
       "<div>\n",
       "<style>\n",
       "    .dataframe thead tr:only-child th {\n",
       "        text-align: right;\n",
       "    }\n",
       "\n",
       "    .dataframe thead th {\n",
       "        text-align: left;\n",
       "    }\n",
       "\n",
       "    .dataframe tbody tr th {\n",
       "        vertical-align: top;\n",
       "    }\n",
       "</style>\n",
       "<table border=\"1\" class=\"dataframe\">\n",
       "  <thead>\n",
       "    <tr style=\"text-align: right;\">\n",
       "      <th></th>\n",
       "      <th>Row1_x</th>\n",
       "      <th>Row2_x</th>\n",
       "      <th>Row3_x</th>\n",
       "      <th>Row4_x</th>\n",
       "      <th>Row5_x</th>\n",
       "      <th>Row6_x</th>\n",
       "      <th>Row7_x</th>\n",
       "      <th>Row1_y</th>\n",
       "      <th>Row2_y</th>\n",
       "      <th>Row3_y</th>\n",
       "      <th>Row4_y</th>\n",
       "      <th>Row5_y</th>\n",
       "      <th>Row6_y</th>\n",
       "      <th>Row7_y</th>\n",
       "      <th>%</th>\n",
       "    </tr>\n",
       "    <tr>\n",
       "      <th>ID</th>\n",
       "      <th></th>\n",
       "      <th></th>\n",
       "      <th></th>\n",
       "      <th></th>\n",
       "      <th></th>\n",
       "      <th></th>\n",
       "      <th></th>\n",
       "      <th></th>\n",
       "      <th></th>\n",
       "      <th></th>\n",
       "      <th></th>\n",
       "      <th></th>\n",
       "      <th></th>\n",
       "      <th></th>\n",
       "      <th></th>\n",
       "    </tr>\n",
       "  </thead>\n",
       "  <tbody>\n",
       "    <tr>\n",
       "      <th>A001</th>\n",
       "      <td>1.4</td>\n",
       "      <td>2.4</td>\n",
       "      <td>NaN</td>\n",
       "      <td>NaN</td>\n",
       "      <td>NaN</td>\n",
       "      <td>NaN</td>\n",
       "      <td>NaN</td>\n",
       "      <td>1.1</td>\n",
       "      <td>2.4</td>\n",
       "      <td>NaN</td>\n",
       "      <td>NaN</td>\n",
       "      <td>NaN</td>\n",
       "      <td>NaN</td>\n",
       "      <td>NaN</td>\n",
       "      <td>0.500</td>\n",
       "    </tr>\n",
       "    <tr>\n",
       "      <th>A002</th>\n",
       "      <td>2.3</td>\n",
       "      <td>2.3</td>\n",
       "      <td>4.3</td>\n",
       "      <td>NaN</td>\n",
       "      <td>NaN</td>\n",
       "      <td>NaN</td>\n",
       "      <td>NaN</td>\n",
       "      <td>2.4</td>\n",
       "      <td>2.3</td>\n",
       "      <td>4.3</td>\n",
       "      <td>NaN</td>\n",
       "      <td>NaN</td>\n",
       "      <td>NaN</td>\n",
       "      <td>NaN</td>\n",
       "      <td>0.667</td>\n",
       "    </tr>\n",
       "    <tr>\n",
       "      <th>A003</th>\n",
       "      <td>5.7</td>\n",
       "      <td>2.8</td>\n",
       "      <td>1.2</td>\n",
       "      <td>5.2</td>\n",
       "      <td>NaN</td>\n",
       "      <td>NaN</td>\n",
       "      <td>NaN</td>\n",
       "      <td>5.7</td>\n",
       "      <td>2.6</td>\n",
       "      <td>1.2</td>\n",
       "      <td>5.1</td>\n",
       "      <td>NaN</td>\n",
       "      <td>NaN</td>\n",
       "      <td>NaN</td>\n",
       "      <td>0.500</td>\n",
       "    </tr>\n",
       "    <tr>\n",
       "      <th>A004</th>\n",
       "      <td>7.1</td>\n",
       "      <td>2.2</td>\n",
       "      <td>NaN</td>\n",
       "      <td>NaN</td>\n",
       "      <td>NaN</td>\n",
       "      <td>NaN</td>\n",
       "      <td>NaN</td>\n",
       "      <td>7.1</td>\n",
       "      <td>2.2</td>\n",
       "      <td>NaN</td>\n",
       "      <td>NaN</td>\n",
       "      <td>NaN</td>\n",
       "      <td>NaN</td>\n",
       "      <td>NaN</td>\n",
       "      <td>1.000</td>\n",
       "    </tr>\n",
       "    <tr>\n",
       "      <th>A005</th>\n",
       "      <td>3.2</td>\n",
       "      <td>4.3</td>\n",
       "      <td>4.2</td>\n",
       "      <td>6.1</td>\n",
       "      <td>7.4</td>\n",
       "      <td>3.2</td>\n",
       "      <td>6.2</td>\n",
       "      <td>3.2</td>\n",
       "      <td>4.3</td>\n",
       "      <td>4.2</td>\n",
       "      <td>6.1</td>\n",
       "      <td>7.3</td>\n",
       "      <td>3.2</td>\n",
       "      <td>6.1</td>\n",
       "      <td>0.571</td>\n",
       "    </tr>\n",
       "  </tbody>\n",
       "</table>\n",
       "</div>"
      ],
      "text/plain": [
       "      Row1_x  Row2_x  Row3_x  Row4_x  Row5_x  Row6_x  Row7_x  Row1_y  Row2_y  \\\n",
       "ID                                                                             \n",
       "A001     1.4     2.4     NaN     NaN     NaN     NaN     NaN     1.1     2.4   \n",
       "A002     2.3     2.3     4.3     NaN     NaN     NaN     NaN     2.4     2.3   \n",
       "A003     5.7     2.8     1.2     5.2     NaN     NaN     NaN     5.7     2.6   \n",
       "A004     7.1     2.2     NaN     NaN     NaN     NaN     NaN     7.1     2.2   \n",
       "A005     3.2     4.3     4.2     6.1     7.4     3.2     6.2     3.2     4.3   \n",
       "\n",
       "      Row3_y  Row4_y  Row5_y  Row6_y  Row7_y      %  \n",
       "ID                                                   \n",
       "A001     NaN     NaN     NaN     NaN     NaN  0.500  \n",
       "A002     4.3     NaN     NaN     NaN     NaN  0.667  \n",
       "A003     1.2     5.1     NaN     NaN     NaN  0.500  \n",
       "A004     NaN     NaN     NaN     NaN     NaN  1.000  \n",
       "A005     4.2     6.1     7.3     3.2     6.1  0.571  "
      ]
     },
     "execution_count": 114,
     "metadata": {},
     "output_type": "execute_result"
    }
   ],
   "source": [
    "# Function taking two dataframes as arguments\n",
    "def compare(dfA,dfB):\n",
    "    # Using loc will select just the columns with data\n",
    "    dataA = dfA.loc[:,['Row1','Row2','Row3','Row4','Row5','Row6','Row7']]\n",
    "    dataB = dfB.loc[:,['Row1','Row2','Row3','Row4','Row5','Row6','Row7']]\n",
    "    \n",
    "    # Iterating trough both dataframes\n",
    "    # len(df_b) is the number of rows on one dataframe, assuming they have the same number of rows.\n",
    "    \n",
    "    # Empty list to save partial results\n",
    "    results = []\n",
    "    \n",
    "    for i in range(0,dataB.shape[0]): \n",
    "        \n",
    "        # Transforming each row to a List  \n",
    "        a = dataA.iloc[i].values\n",
    "        b = dataB.iloc[i].values\n",
    "        \n",
    "        # Removing nan from lists\n",
    "        aCheck = [value for value in a if not math.isnan(value)]\n",
    "        bCheck = [value for value in b if not math.isnan(value)]\n",
    "        \n",
    "        # Reducing decimals to Two\n",
    "        def rounding(list):\n",
    "            newList = []\n",
    "            for x in list:\n",
    "                newList.append(float(\"{0:.1f}\".format(x)))\n",
    "            return newList\n",
    "    \n",
    "        y = len(set(rounding(aCheck)).intersection(rounding(bCheck)))\n",
    "        z = len(bCheck)\n",
    "        result = y/z \n",
    "        results.append(float(\"{0:.3f}\".format(result)))\n",
    "    \n",
    "    # Creating a Series from a list\n",
    "    r = pd.Series(results)\n",
    "    \n",
    "    # Merging original dataframes\n",
    "    merging = pd.merge(dfA, dfB, on='ID')\n",
    "    \n",
    "    # Concatenating original Dataframes with our new Series\n",
    "    conc = pd.concat([merging, r], axis=1)\n",
    "    \n",
    "    # Changing column name to %, setting index on ID, and saving to CSV\n",
    "    conc.rename(columns={0: '%'}, inplace=True)\n",
    "    conc.set_index('ID',inplace=True)\n",
    "    conc.to_csv('data/result.csv',sep=',')\n",
    "    \n",
    "    # Finally returning our original dataframes concatenated with the new column\n",
    "    return conc\n",
    "        \n",
    "\n",
    "# calling the function using our two dataframes\n",
    "# it will print the percentaje for each row\n",
    "compare(dataA,dataB)"
   ]
  },
  {
   "cell_type": "code",
   "execution_count": 116,
   "metadata": {},
   "outputs": [
    {
     "name": "stdout",
     "output_type": "stream",
     "text": [
      "cancer_all_types.xls                    result.csv\r\n",
      "cervical-cancer-risk-classification.zip \u001b[35mrisk_factors_cervical_cancer.csv\u001b[m\u001b[m\r\n",
      "data.xlsx                               tobacco.csv\r\n",
      "dataStore.xlsx                          world.sql\r\n",
      "file.txt\r\n"
     ]
    }
   ],
   "source": [
    "! cd data && ls"
   ]
  },
  {
   "cell_type": "code",
   "execution_count": 118,
   "metadata": {},
   "outputs": [
    {
     "data": {
      "text/plain": [
       "0    0.500\n",
       "1    0.667\n",
       "2    0.500\n",
       "3    1.000\n",
       "4    0.571\n",
       "Name: %, dtype: float64"
      ]
     },
     "execution_count": 118,
     "metadata": {},
     "output_type": "execute_result"
    }
   ],
   "source": [
    "final = pd.read_csv('data/result.csv', sep=',')\n",
    "final['%']"
   ]
  }
 ],
 "metadata": {
  "kernelspec": {
   "display_name": "Python 3",
   "language": "python",
   "name": "python3"
  },
  "language_info": {
   "codemirror_mode": {
    "name": "ipython",
    "version": 3
   },
   "file_extension": ".py",
   "mimetype": "text/x-python",
   "name": "python",
   "nbconvert_exporter": "python",
   "pygments_lexer": "ipython3",
   "version": "3.6.2"
  }
 },
 "nbformat": 4,
 "nbformat_minor": 2
}
