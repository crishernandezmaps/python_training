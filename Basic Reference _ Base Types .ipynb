{
 "cells": [
  {
   "cell_type": "code",
   "execution_count": null,
   "metadata": {},
   "outputs": [],
   "source": [
    "#Python posee cuatro tipos base, ENTERO(int)- FLOTANTE (float)-BOOLEANO(bool)- CUERDA (str)"
   ]
  },
  {
   "cell_type": "code",
   "execution_count": 5,
   "metadata": {},
   "outputs": [
    {
     "name": "stdout",
     "output_type": "stream",
     "text": [
      "el entero de un numero flotante 789.36 es 780\n"
     ]
    }
   ],
   "source": [
    "#Ejemplo de Enteros\n",
    "print('el entero de un numero flotante 789.36','es',int(780.36))"
   ]
  },
  {
   "cell_type": "code",
   "execution_count": 6,
   "metadata": {},
   "outputs": [
    {
     "name": "stdout",
     "output_type": "stream",
     "text": [
      "la funcion float produce un flotante de un entero, por ejemplo 780 es 780.0\n"
     ]
    }
   ],
   "source": [
    "#Ejemplo de flotante\n",
    "print('la funcion float produce un flotante de un entero, por ejemplo 780 es',float(780))"
   ]
  },
  {
   "cell_type": "code",
   "execution_count": 8,
   "metadata": {},
   "outputs": [
    {
     "name": "stdout",
     "output_type": "stream",
     "text": [
      "One\n",
      "Two\n"
     ]
    }
   ],
   "source": [
    "#Booleano solo tiene dos valores true o false\n",
    "#Cuerda o String son expresiones alfanumericas (nunca empiezan con numeros y ciertos símbolos reservados)\n",
    "#Tambien emplean sintaxis para escape, nueva linea y multilinea\n",
    "a=\"One\\nTwo\"\n",
    "print(a)"
   ]
  },
  {
   "cell_type": "code",
   "execution_count": 13,
   "metadata": {},
   "outputs": [
    {
     "name": "stdout",
     "output_type": "stream",
     "text": [
      "I'am\n"
     ]
    }
   ],
   "source": [
    "#O escape en nueva linea\n",
    "b='I\\'am'\n",
    "print(b)"
   ]
  },
  {
   "cell_type": "code",
   "execution_count": 17,
   "metadata": {},
   "outputs": [
    {
     "name": "stdout",
     "output_type": "stream",
     "text": [
      "X\tY\tZ\n",
      "1\t2\t3\n"
     ]
    }
   ],
   "source": [
    "#Multilinea tabulado\n",
    "c=\"\"\"X\\tY\\tZ\n",
    "1\\t2\\t3\"\"\"\n",
    "print(c)"
   ]
  },
  {
   "cell_type": "code",
   "execution_count": null,
   "metadata": {},
   "outputs": [],
   "source": []
  }
 ],
 "metadata": {
  "kernelspec": {
   "display_name": "Python 3",
   "language": "python",
   "name": "python3"
  },
  "language_info": {
   "codemirror_mode": {
    "name": "ipython",
    "version": 3
   },
   "file_extension": ".py",
   "mimetype": "text/x-python",
   "name": "python",
   "nbconvert_exporter": "python",
   "pygments_lexer": "ipython3",
   "version": "3.7.4"
  }
 },
 "nbformat": 4,
 "nbformat_minor": 2
}
