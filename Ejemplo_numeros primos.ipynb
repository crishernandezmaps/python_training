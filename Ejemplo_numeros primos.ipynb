{
 "cells": [
  {
   "cell_type": "code",
   "execution_count": 1,
   "metadata": {},
   "outputs": [],
   "source": [
    "#Identificador de numeros primos"
   ]
  },
  {
   "cell_type": "code",
   "execution_count": 10,
   "metadata": {},
   "outputs": [
    {
     "name": "stdout",
     "output_type": "stream",
     "text": [
      "3 es primo\n",
      "4 es igual a  2 * 2.0\n",
      "5 es primo\n",
      "5 es primo\n",
      "5 es primo\n",
      "6 es igual a  2 * 3.0\n",
      "7 es primo\n",
      "7 es primo\n",
      "7 es primo\n",
      "7 es primo\n",
      "7 es primo\n",
      "8 es igual a  2 * 4.0\n",
      "9 es primo\n",
      "9 es igual a  3 * 3.0\n"
     ]
    }
   ],
   "source": [
    "for n in range(2,10):\n",
    "    for x in range(2,n):\n",
    "        if n%x == 0:\n",
    "            print(n,'es igual a ',x,'*',n/x)\n",
    "            break\n",
    "        else:\n",
    "            print(n, 'es primo')\n"
   ]
  },
  {
   "cell_type": "code",
   "execution_count": null,
   "metadata": {},
   "outputs": [],
   "source": [
    "#Este no es el resultado del manual, no entiendo donde está el error"
   ]
  }
 ],
 "metadata": {
  "kernelspec": {
   "display_name": "Python 3",
   "language": "python",
   "name": "python3"
  },
  "language_info": {
   "codemirror_mode": {
    "name": "ipython",
    "version": 3
   },
   "file_extension": ".py",
   "mimetype": "text/x-python",
   "name": "python",
   "nbconvert_exporter": "python",
   "pygments_lexer": "ipython3",
   "version": "3.7.4"
  }
 },
 "nbformat": 4,
 "nbformat_minor": 2
}
