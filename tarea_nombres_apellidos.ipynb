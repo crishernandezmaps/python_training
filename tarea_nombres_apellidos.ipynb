{
 "cells": [
  {
   "cell_type": "code",
   "execution_count": 16,
   "metadata": {},
   "outputs": [
    {
     "name": "stdout",
     "output_type": "stream",
     "text": [
      "('pedro', 'juan', 'diego', 'ernesta')\n"
     ]
    }
   ],
   "source": [
    "nombres = (\"pedro\", \"juan\", \"diego\", \"ernesta\")\n",
    "print (nombres)"
   ]
  },
  {
   "cell_type": "code",
   "execution_count": 5,
   "metadata": {},
   "outputs": [
    {
     "name": "stdout",
     "output_type": "stream",
     "text": [
      "('almena', 'estaurio', 'camberra', 'turing')\n"
     ]
    }
   ],
   "source": [
    "apellidos = (\"almena\", \"estaurio\", \"camberra\", \"turing\")\n",
    "print (apellidos)"
   ]
  },
  {
   "cell_type": "code",
   "execution_count": 13,
   "metadata": {},
   "outputs": [],
   "source": [
    "nombre_apellidos=(nombres,apellidos)"
   ]
  },
  {
   "cell_type": "code",
   "execution_count": 14,
   "metadata": {},
   "outputs": [
    {
     "name": "stdout",
     "output_type": "stream",
     "text": [
      "(('pedro', 'juan', 'diego', 'ernesta'), ('almena', 'estaurio', 'camberra', 'turing'))\n"
     ]
    }
   ],
   "source": [
    "print(nombre_apellidos)"
   ]
  },
  {
   "cell_type": "code",
   "execution_count": 32,
   "metadata": {},
   "outputs": [
    {
     "name": "stdout",
     "output_type": "stream",
     "text": [
      "('pedro', 'juan', 'diego', 'ernesta', 'almena', 'estaurio', 'camberra', 'turing')\n"
     ]
    }
   ],
   "source": [
    "print(nombres + apellidos)"
   ]
  },
  {
   "cell_type": "code",
   "execution_count": 31,
   "metadata": {},
   "outputs": [
    {
     "ename": "TypeError",
     "evalue": "can only concatenate str (not \"tuple\") to str",
     "output_type": "error",
     "traceback": [
      "\u001b[0;31m---------------------------------------------------------------------------\u001b[0m",
      "\u001b[0;31mTypeError\u001b[0m                                 Traceback (most recent call last)",
      "\u001b[0;32m<ipython-input-31-c8f7e2e7c393>\u001b[0m in \u001b[0;36m<module>\u001b[0;34m()\u001b[0m\n\u001b[1;32m      1\u001b[0m \u001b[0;32mfor\u001b[0m \u001b[0mn\u001b[0m \u001b[0;32min\u001b[0m \u001b[0mnombres\u001b[0m\u001b[0;34m:\u001b[0m\u001b[0;34m\u001b[0m\u001b[0m\n\u001b[0;32m----> 2\u001b[0;31m     \u001b[0mprint\u001b[0m\u001b[0;34m(\u001b[0m\u001b[0mn\u001b[0m \u001b[0;34m+\u001b[0m \u001b[0mapellidos\u001b[0m\u001b[0;34m)\u001b[0m\u001b[0;34m\u001b[0m\u001b[0m\n\u001b[0m",
      "\u001b[0;31mTypeError\u001b[0m: can only concatenate str (not \"tuple\") to str"
     ]
    }
   ],
   "source": [
    "for n in nombres:\n",
    "    print(n + apellidos)"
   ]
  },
  {
   "cell_type": "code",
   "execution_count": 42,
   "metadata": {},
   "outputs": [
    {
     "name": "stdout",
     "output_type": "stream",
     "text": [
      "almena\n",
      "estaurio\n",
      "camberra\n",
      "turing\n"
     ]
    }
   ],
   "source": [
    "for i in range(len(nombres)):\n",
    "    print(apellidos[i])"
   ]
  },
  {
   "cell_type": "code",
   "execution_count": 43,
   "metadata": {},
   "outputs": [
    {
     "name": "stdout",
     "output_type": "stream",
     "text": [
      "pedro almena\n",
      "juan estaurio\n",
      "diego camberra\n",
      "ernesta turing\n"
     ]
    }
   ],
   "source": [
    "for i in range(len(nombres)):\n",
    "    print(nombres[i],apellidos[i])"
   ]
  },
  {
   "cell_type": "code",
   "execution_count": 23,
   "metadata": {},
   "outputs": [],
   "source": [
    "import random as random"
   ]
  },
  {
   "cell_type": "code",
   "execution_count": 24,
   "metadata": {},
   "outputs": [
    {
     "name": "stdout",
     "output_type": "stream",
     "text": [
      "pedro turing\n",
      "juan camberra\n",
      "diego turing\n",
      "ernesta estaurio\n"
     ]
    }
   ],
   "source": [
    "for n in nombres:\n",
    "   print(n + ' ' + random.choice(apellidos))"
   ]
  },
  {
   "cell_type": "code",
   "execution_count": 47,
   "metadata": {},
   "outputs": [
    {
     "name": "stdout",
     "output_type": "stream",
     "text": [
      "John Snow\n",
      "Edward Baratheon\n",
      "Tom Crisostomo\n"
     ]
    }
   ],
   "source": [
    "import random\n",
    "Lista_de_nombres = [\"John\",\"Edward\",\"Tom\"]\n",
    "Lista_de_Apellidos = [\"Snow\",\"Baratheon\",\"York\",\"Crisostomo\"]\n",
    "for i in Lista_de_nombres:\n",
    "   print(i + ' ' + random.choice(Lista_de_Apellidos))"
   ]
  },
  {
   "cell_type": "code",
   "execution_count": 41,
   "metadata": {},
   "outputs": [
    {
     "data": {
      "text/plain": [
       "4"
      ]
     },
     "execution_count": 41,
     "metadata": {},
     "output_type": "execute_result"
    }
   ],
   "source": [
    "len(nombres)"
   ]
  },
  {
   "cell_type": "code",
   "execution_count": 52,
   "metadata": {},
   "outputs": [
    {
     "name": "stdout",
     "output_type": "stream",
     "text": [
      "Agustín González\n",
      "Tomás Muñoz\n",
      "Benjamín Rojas\n",
      "Vicente Díaz\n",
      "Maximiliano Pérez\n"
     ]
    }
   ],
   "source": [
    "Lista_de_nombres=[\"Agustín\",\"Tomás\",\"Benjamín\",\"Vicente\",\"Maximiliano\"]\n",
    "Lista_de_Apellidos=[\"González\",\"Muñoz\",\"Rojas\",\"Díaz\",\"Pérez\"]\n",
    "for n in range(len(Lista_de_Apellidos)):\n",
    "   print(Lista_de_nombres[n],Lista_de_Apellidos[n])"
   ]
  },
  {
   "cell_type": "code",
   "execution_count": null,
   "metadata": {},
   "outputs": [],
   "source": []
  }
 ],
 "metadata": {
  "kernelspec": {
   "display_name": "Python 3",
   "language": "python",
   "name": "python3"
  },
  "language_info": {
   "codemirror_mode": {
    "name": "ipython",
    "version": 3
   },
   "file_extension": ".py",
   "mimetype": "text/x-python",
   "name": "python",
   "nbconvert_exporter": "python",
   "pygments_lexer": "ipython3",
   "version": "3.7.0"
  }
 },
 "nbformat": 4,
 "nbformat_minor": 2
}
