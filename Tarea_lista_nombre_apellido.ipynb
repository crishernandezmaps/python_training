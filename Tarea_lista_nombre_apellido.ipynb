{
 "cells": [
  {
   "cell_type": "code",
   "execution_count": 1,
   "metadata": {},
   "outputs": [],
   "source": [
    "# Tarea Lista de nombres y apellidos\""
   ]
  },
  {
   "cell_type": "code",
   "execution_count": 2,
   "metadata": {},
   "outputs": [
    {
     "name": "stdout",
     "output_type": "stream",
     "text": [
      "Nombres de niños inscritos en 2018 más usados en Chile\n",
      "Agustín\n",
      "Tomás\n",
      "Benjamín\n",
      "Vicente\n",
      "Maximiliano\n"
     ]
    }
   ],
   "source": [
    "Lista_de_nombres=[\"Agustín\",\"Tomás\",\"Benjamín\",\"Vicente\",\"Maximiliano\"]\n",
    "print('Nombres de niños inscritos en 2018 más usados en Chile')\n",
    "for n in range(5):\n",
    "    print(Lista_de_nombres[n])"
   ]
  },
  {
   "cell_type": "code",
   "execution_count": 3,
   "metadata": {},
   "outputs": [
    {
     "name": "stdout",
     "output_type": "stream",
     "text": [
      "Apellidos más usados en Chile\n",
      "González\n",
      "Muñoz\n",
      "Rojas\n",
      "Díaz\n",
      "Pérez\n"
     ]
    }
   ],
   "source": [
    "Lista_de_Apellidos=[\"González\",\"Muñoz\",\"Rojas\",\"Díaz\",\"Pérez\"]\n",
    "print('Apellidos más usados en Chile')\n",
    "for n in range(5):\n",
    "    print(Lista_de_Apellidos[n])"
   ]
  },
  {
   "cell_type": "code",
   "execution_count": 4,
   "metadata": {},
   "outputs": [
    {
     "name": "stdout",
     "output_type": "stream",
     "text": [
      "Niños nacidos en 2018 más comunes en Chile\n",
      "Agustín González\n",
      "Tomás Muñoz\n",
      "Benjamín Rojas\n",
      "Vicente Díaz\n",
      "Maximiliano Pérez\n"
     ]
    }
   ],
   "source": [
    "print('Niños nacidos en 2018 más comunes en Chile')\n",
    "for n in range(5):\n",
    "    print(Lista_de_nombres[n],Lista_de_Apellidos[n])"
   ]
  }
 ],
 "metadata": {
  "kernelspec": {
   "display_name": "Python 3",
   "language": "python",
   "name": "python3"
  },
  "language_info": {
   "codemirror_mode": {
    "name": "ipython",
    "version": 3
   },
   "file_extension": ".py",
   "mimetype": "text/x-python",
   "name": "python",
   "nbconvert_exporter": "python",
   "pygments_lexer": "ipython3",
   "version": "3.7.4"
  }
 },
 "nbformat": 4,
 "nbformat_minor": 2
}
