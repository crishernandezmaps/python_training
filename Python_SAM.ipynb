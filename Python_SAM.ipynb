{
 "cells": [
  {
   "cell_type": "markdown",
   "metadata": {},
   "source": [
    "## Links\n",
    "\n",
    "- [Jupyter Notebook](http://jupyter.org/)\n",
    "- [Microsoft Azure Notebooks](https://notebooks.azure.com)\n",
    "- [Github guides](https://guides.github.com/)"
   ]
  },
  {
   "cell_type": "markdown",
   "metadata": {},
   "source": [
    "Here I'm trying a solution for your project:"
   ]
  },
  {
   "cell_type": "code",
   "execution_count": 63,
   "metadata": {
    "collapsed": false
   },
   "outputs": [],
   "source": [
    "import pandas\n",
    "import numpy\n",
    "\n",
    "# Creating two arrays with floats, just for testing, using numpy.\n",
    "dtype = [\n",
    "    ('v1','float32'), \n",
    "    ('v2','float32'), \n",
    "    ('v3','float32'), \n",
    "    ('v4','float32'), \n",
    "    ('v5','float32'),\n",
    "    ('v6','float32'),\n",
    "    ('v7','float32')\n",
    "    ]\n",
    "values = numpy.zeros(5, dtype = dtype)\n",
    "index = ['Row'+str(i) for i in range(1, len(values)+1)]\n",
    "\n",
    "# transforming those arrays to Dataframes\n",
    "df_A = pandas.DataFrame(values, index=index)\n",
    "df_B = pandas.DataFrame(values, index=index)"
   ]
  },
  {
   "cell_type": "code",
   "execution_count": 22,
   "metadata": {
    "collapsed": false
   },
   "outputs": [
    {
     "data": {
      "text/html": [
       "<div>\n",
       "<table border=\"1\" class=\"dataframe\">\n",
       "  <thead>\n",
       "    <tr style=\"text-align: right;\">\n",
       "      <th></th>\n",
       "      <th>v1</th>\n",
       "      <th>v2</th>\n",
       "      <th>v3</th>\n",
       "      <th>v4</th>\n",
       "      <th>v5</th>\n",
       "      <th>v6</th>\n",
       "      <th>v7</th>\n",
       "    </tr>\n",
       "  </thead>\n",
       "  <tbody>\n",
       "    <tr>\n",
       "      <th>Row1</th>\n",
       "      <td>0.0</td>\n",
       "      <td>0.0</td>\n",
       "      <td>0.0</td>\n",
       "      <td>0.0</td>\n",
       "      <td>0.0</td>\n",
       "      <td>0.0</td>\n",
       "      <td>0.0</td>\n",
       "    </tr>\n",
       "    <tr>\n",
       "      <th>Row2</th>\n",
       "      <td>0.0</td>\n",
       "      <td>0.0</td>\n",
       "      <td>0.0</td>\n",
       "      <td>0.0</td>\n",
       "      <td>0.0</td>\n",
       "      <td>0.0</td>\n",
       "      <td>0.0</td>\n",
       "    </tr>\n",
       "    <tr>\n",
       "      <th>Row3</th>\n",
       "      <td>0.0</td>\n",
       "      <td>0.0</td>\n",
       "      <td>0.0</td>\n",
       "      <td>0.0</td>\n",
       "      <td>0.0</td>\n",
       "      <td>0.0</td>\n",
       "      <td>0.0</td>\n",
       "    </tr>\n",
       "    <tr>\n",
       "      <th>Row4</th>\n",
       "      <td>0.0</td>\n",
       "      <td>0.0</td>\n",
       "      <td>0.0</td>\n",
       "      <td>0.0</td>\n",
       "      <td>0.0</td>\n",
       "      <td>0.0</td>\n",
       "      <td>0.0</td>\n",
       "    </tr>\n",
       "    <tr>\n",
       "      <th>Row5</th>\n",
       "      <td>0.0</td>\n",
       "      <td>0.0</td>\n",
       "      <td>0.0</td>\n",
       "      <td>0.0</td>\n",
       "      <td>0.0</td>\n",
       "      <td>0.0</td>\n",
       "      <td>0.0</td>\n",
       "    </tr>\n",
       "  </tbody>\n",
       "</table>\n",
       "</div>"
      ],
      "text/plain": [
       "       v1   v2   v3   v4   v5   v6   v7\n",
       "Row1  0.0  0.0  0.0  0.0  0.0  0.0  0.0\n",
       "Row2  0.0  0.0  0.0  0.0  0.0  0.0  0.0\n",
       "Row3  0.0  0.0  0.0  0.0  0.0  0.0  0.0\n",
       "Row4  0.0  0.0  0.0  0.0  0.0  0.0  0.0\n",
       "Row5  0.0  0.0  0.0  0.0  0.0  0.0  0.0"
      ]
     },
     "execution_count": 22,
     "metadata": {},
     "output_type": "execute_result"
    }
   ],
   "source": [
    "df_A"
   ]
  },
  {
   "cell_type": "code",
   "execution_count": 52,
   "metadata": {
    "collapsed": false
   },
   "outputs": [
    {
     "data": {
      "text/html": [
       "<div>\n",
       "<table border=\"1\" class=\"dataframe\">\n",
       "  <thead>\n",
       "    <tr style=\"text-align: right;\">\n",
       "      <th></th>\n",
       "      <th>v1</th>\n",
       "      <th>v2</th>\n",
       "      <th>v3</th>\n",
       "      <th>v4</th>\n",
       "      <th>v5</th>\n",
       "      <th>v6</th>\n",
       "      <th>v7</th>\n",
       "    </tr>\n",
       "  </thead>\n",
       "  <tbody>\n",
       "    <tr>\n",
       "      <th>Row1</th>\n",
       "      <td>0.0</td>\n",
       "      <td>0.0</td>\n",
       "      <td>0.0</td>\n",
       "      <td>0.0</td>\n",
       "      <td>0.0</td>\n",
       "      <td>0.0</td>\n",
       "      <td>0.0</td>\n",
       "    </tr>\n",
       "    <tr>\n",
       "      <th>Row2</th>\n",
       "      <td>0.0</td>\n",
       "      <td>0.0</td>\n",
       "      <td>0.0</td>\n",
       "      <td>0.0</td>\n",
       "      <td>0.0</td>\n",
       "      <td>0.0</td>\n",
       "      <td>0.0</td>\n",
       "    </tr>\n",
       "    <tr>\n",
       "      <th>Row3</th>\n",
       "      <td>0.0</td>\n",
       "      <td>0.0</td>\n",
       "      <td>0.0</td>\n",
       "      <td>0.0</td>\n",
       "      <td>0.0</td>\n",
       "      <td>0.0</td>\n",
       "      <td>0.0</td>\n",
       "    </tr>\n",
       "    <tr>\n",
       "      <th>Row4</th>\n",
       "      <td>0.0</td>\n",
       "      <td>0.0</td>\n",
       "      <td>0.0</td>\n",
       "      <td>0.0</td>\n",
       "      <td>0.0</td>\n",
       "      <td>0.0</td>\n",
       "      <td>0.0</td>\n",
       "    </tr>\n",
       "    <tr>\n",
       "      <th>Row5</th>\n",
       "      <td>0.0</td>\n",
       "      <td>0.0</td>\n",
       "      <td>0.0</td>\n",
       "      <td>0.0</td>\n",
       "      <td>0.0</td>\n",
       "      <td>0.0</td>\n",
       "      <td>0.0</td>\n",
       "    </tr>\n",
       "  </tbody>\n",
       "</table>\n",
       "</div>"
      ],
      "text/plain": [
       "       v1   v2   v3   v4   v5   v6   v7\n",
       "Row1  0.0  0.0  0.0  0.0  0.0  0.0  0.0\n",
       "Row2  0.0  0.0  0.0  0.0  0.0  0.0  0.0\n",
       "Row3  0.0  0.0  0.0  0.0  0.0  0.0  0.0\n",
       "Row4  0.0  0.0  0.0  0.0  0.0  0.0  0.0\n",
       "Row5  0.0  0.0  0.0  0.0  0.0  0.0  0.0"
      ]
     },
     "execution_count": 52,
     "metadata": {},
     "output_type": "execute_result"
    }
   ],
   "source": [
    "df_B"
   ]
  },
  {
   "cell_type": "code",
   "execution_count": 65,
   "metadata": {
    "collapsed": false
   },
   "outputs": [],
   "source": [
    "# A function that is taking two dataframes as arguments\n",
    "def compare(dfA,dfB):\n",
    "    # Iterating trough both dataframes\n",
    "    # len(df_b) is the number of rows on one dataframe, assuming they have the same number of rows.\n",
    "    for i in range(0,len(df_B.index)):    \n",
    "        # First row serie transform to int to get just the first number from '0,7' = '0'.\n",
    "        # Finally converting that int to str\n",
    "        a = dfA.iloc[i].values.astype(int).astype(str)\n",
    "        b = dfB.iloc[i].values.astype(int).astype(str)\n",
    "    \n",
    "        # Look at this solution to compare two lists - No additional libraries:\n",
    "        # https://stackoverflow.com/a/29929572/7267846 \n",
    "        # we are comparing sets and no lists. A set is iterable without a for loop. More info about sets:\n",
    "        # https://www.programiz.com/python-programming/methods/built-in/set \n",
    "        setA = set(a)\n",
    "        setB = set(b)\n",
    "        \n",
    "        # overlap: setA ADN setB\n",
    "        overlap = setA & setB\n",
    "        \n",
    "        # universe: setA OR setB\n",
    "        universe = setA | setB\n",
    "        \n",
    "        result = float(len(overlap)) / len(universe) * 100\n",
    "        \n",
    "        print('result_' + str(i) + ': ' + str(result) + '%')"
   ]
  },
  {
   "cell_type": "code",
   "execution_count": 66,
   "metadata": {
    "collapsed": false
   },
   "outputs": [
    {
     "name": "stdout",
     "output_type": "stream",
     "text": [
      "result_0: 100.0%\n",
      "result_1: 100.0%\n",
      "result_2: 100.0%\n",
      "result_3: 100.0%\n",
      "result_4: 100.0%\n"
     ]
    }
   ],
   "source": [
    "# calling the function using our two dataframes\n",
    "# it will print the percentaje for each row\n",
    "compare(df_A,df_B)"
   ]
  }
 ],
 "metadata": {
  "kernelspec": {
   "display_name": "Python 3",
   "language": "python",
   "name": "python3"
  },
  "language_info": {
   "codemirror_mode": {
    "name": "ipython",
    "version": 3
   },
   "file_extension": ".py",
   "mimetype": "text/x-python",
   "name": "python",
   "nbconvert_exporter": "python",
   "pygments_lexer": "ipython3",
   "version": "3.5.2"
  }
 },
 "nbformat": 4,
 "nbformat_minor": 2
}
